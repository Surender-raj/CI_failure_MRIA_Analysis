{
 "cells": [
  {
   "cell_type": "code",
   "execution_count": 1,
   "id": "118576fa-0e31-414d-b9da-94157e1e128b",
   "metadata": {},
   "outputs": [],
   "source": [
    "import pandas as pd\n",
    "import os\n",
    "import geopandas as gpd"
   ]
  },
  {
   "cell_type": "code",
   "execution_count": 2,
   "id": "5bec7f80-a143-4d46-942c-4fb89bb0bb7f",
   "metadata": {},
   "outputs": [],
   "source": [
    "def investment_cost_calculator(r , n, maintenance, op, tf, cis):\n",
    "    path = os.path.join((os.path.dirname(os.getcwd())), 'results')\n",
    "    ci_dam = pd.read_excel(os.path.join(path, f'ci_{op}_{tf}_mosek_{10000}_{cis}.xlsx'), index_col = [0], header = [0])\n",
    "    ci_failed = ci_dam[ci_dam['flood_fail'] == 0]\n",
    "    osmids_toadapt = list(ci_failed['osmid'])\n",
    "    input_path = os.path.join((os.path.dirname(os.path.dirname(os.getcwd()))), 'data')\n",
    "    ci = gpd.read_parquet(os.path.join(input_path, 'substaions_nl33.parquet'))\n",
    "    filtered_ci = ci[ci['osmid'].isin(osmids_toadapt)]\n",
    "    filtered_cidam = ci_dam[ci_dam['osmid'].isin(osmids_toadapt)]\n",
    "    filtered_cidam = filtered_cidam.drop(columns = ['geometry'])\n",
    "    merged_df = pd.merge(filtered_ci, filtered_cidam, on='osmid')\n",
    "    merged_df = merged_df.to_crs(32633)\n",
    "\n",
    "    merged_df['perimeter'] = merged_df.geometry.length\n",
    "    merged_df['constcost'] = (244.13 + 214.23*merged_df['depth']) * merged_df['perimeter'] # Model from retaining wall website\n",
    "    merged_df['maintcost'] =  merged_df['constcost']  * maintenance # Assumption: 20% maintenance\n",
    "    merged_df['totalcost'] =  merged_df['constcost']  + merged_df['maintcost']\n",
    "    merged_df['annualcost'] = (merged_df['totalcost']  * r) / (1 - (1 + r) ** -n) # Annual cost\n",
    "    investment = (merged_df['annualcost'].sum()) / 1000000 # in million Euros\n",
    "    merged_df['surface_area'] = merged_df['depth'] * merged_df['perimeter'] # in sq.m\n",
    "    surface_area = merged_df['surface_area'].sum()\n",
    "    return investment"
   ]
  },
  {
   "cell_type": "markdown",
   "id": "856351fe-2029-4703-9e2c-0548dd2f7330",
   "metadata": {},
   "source": [
    "#### Benefits: Reduction in EAI"
   ]
  },
  {
   "cell_type": "code",
   "execution_count": 3,
   "id": "92014330-83ee-465e-a6e2-5473f0181dcf",
   "metadata": {},
   "outputs": [],
   "source": [
    "path = os.path.dirname(os.getcwd())"
   ]
  },
  {
   "cell_type": "code",
   "execution_count": 4,
   "id": "ee42a115-2846-4fc6-9d25-44b9d7bc1eb8",
   "metadata": {},
   "outputs": [
    {
     "data": {
      "text/html": [
       "<div>\n",
       "<style scoped>\n",
       "    .dataframe tbody tr th:only-of-type {\n",
       "        vertical-align: middle;\n",
       "    }\n",
       "\n",
       "    .dataframe tbody tr th {\n",
       "        vertical-align: top;\n",
       "    }\n",
       "\n",
       "    .dataframe thead th {\n",
       "        text-align: right;\n",
       "    }\n",
       "</style>\n",
       "<table border=\"1\" class=\"dataframe\">\n",
       "  <thead>\n",
       "    <tr style=\"text-align: right;\">\n",
       "      <th></th>\n",
       "      <th>0</th>\n",
       "      <th>1</th>\n",
       "      <th>2</th>\n",
       "    </tr>\n",
       "  </thead>\n",
       "  <tbody>\n",
       "    <tr>\n",
       "      <th>0</th>\n",
       "      <td>25.408750</td>\n",
       "      <td>7.179986</td>\n",
       "      <td>5.495185</td>\n",
       "    </tr>\n",
       "    <tr>\n",
       "      <th>1</th>\n",
       "      <td>9.760083</td>\n",
       "      <td>3.525186</td>\n",
       "      <td>2.384388</td>\n",
       "    </tr>\n",
       "    <tr>\n",
       "      <th>2</th>\n",
       "      <td>7.379005</td>\n",
       "      <td>1.700874</td>\n",
       "      <td>0.976995</td>\n",
       "    </tr>\n",
       "  </tbody>\n",
       "</table>\n",
       "</div>"
      ],
      "text/plain": [
       "           0         1         2\n",
       "0  25.408750  7.179986  5.495185\n",
       "1   9.760083  3.525186  2.384388\n",
       "2   7.379005  1.700874  0.976995"
      ]
     },
     "execution_count": 4,
     "metadata": {},
     "output_type": "execute_result"
    }
   ],
   "source": [
    "#### Data of EAI with CI\n",
    "data1 = pd.read_excel(os.path.join(path, 'eac_ci_df.xlsx'), index_col = 0)\n",
    "data1 = data1.loc[:,0:2]\n",
    "data1 = data1\n",
    "data1"
   ]
  },
  {
   "cell_type": "code",
   "execution_count": 5,
   "id": "719c7e0f-3eef-4eb4-8e8a-ef5dc1ae47e6",
   "metadata": {},
   "outputs": [
    {
     "data": {
      "text/html": [
       "<div>\n",
       "<style scoped>\n",
       "    .dataframe tbody tr th:only-of-type {\n",
       "        vertical-align: middle;\n",
       "    }\n",
       "\n",
       "    .dataframe tbody tr th {\n",
       "        vertical-align: top;\n",
       "    }\n",
       "\n",
       "    .dataframe thead th {\n",
       "        text-align: right;\n",
       "    }\n",
       "</style>\n",
       "<table border=\"1\" class=\"dataframe\">\n",
       "  <thead>\n",
       "    <tr style=\"text-align: right;\">\n",
       "      <th></th>\n",
       "      <th>0</th>\n",
       "      <th>1</th>\n",
       "      <th>2</th>\n",
       "    </tr>\n",
       "  </thead>\n",
       "  <tbody>\n",
       "    <tr>\n",
       "      <th>0</th>\n",
       "      <td>5.495185</td>\n",
       "      <td>5.495185</td>\n",
       "      <td>5.495185</td>\n",
       "    </tr>\n",
       "    <tr>\n",
       "      <th>1</th>\n",
       "      <td>2.384388</td>\n",
       "      <td>2.384388</td>\n",
       "      <td>2.384388</td>\n",
       "    </tr>\n",
       "    <tr>\n",
       "      <th>2</th>\n",
       "      <td>0.976995</td>\n",
       "      <td>0.976995</td>\n",
       "      <td>0.976995</td>\n",
       "    </tr>\n",
       "  </tbody>\n",
       "</table>\n",
       "</div>"
      ],
      "text/plain": [
       "          0         1         2\n",
       "0  5.495185  5.495185  5.495185\n",
       "1  2.384388  2.384388  2.384388\n",
       "2  0.976995  0.976995  0.976995"
      ]
     },
     "execution_count": 5,
     "metadata": {},
     "output_type": "execute_result"
    }
   ],
   "source": [
    "#### Data of EAI with CI\n",
    "data2 = pd.read_excel(os.path.join(path, 'eac_noci_df.xlsx'), index_col = 0)\n",
    "data2 = data2.loc[:,0:2]\n",
    "data2 = data2\n",
    "data2"
   ]
  },
  {
   "cell_type": "code",
   "execution_count": 6,
   "id": "33beefb1-edc3-4baa-baa9-3aa8600904c2",
   "metadata": {},
   "outputs": [],
   "source": [
    "data3 = data1 - data2"
   ]
  },
  {
   "cell_type": "code",
   "execution_count": 7,
   "id": "52d27aaf-03a8-4b6c-b2fe-88a12f8bb942",
   "metadata": {},
   "outputs": [
    {
     "data": {
      "text/html": [
       "<div>\n",
       "<style scoped>\n",
       "    .dataframe tbody tr th:only-of-type {\n",
       "        vertical-align: middle;\n",
       "    }\n",
       "\n",
       "    .dataframe tbody tr th {\n",
       "        vertical-align: top;\n",
       "    }\n",
       "\n",
       "    .dataframe thead th {\n",
       "        text-align: right;\n",
       "    }\n",
       "</style>\n",
       "<table border=\"1\" class=\"dataframe\">\n",
       "  <thead>\n",
       "    <tr style=\"text-align: right;\">\n",
       "      <th></th>\n",
       "      <th>0</th>\n",
       "      <th>1</th>\n",
       "      <th>2</th>\n",
       "    </tr>\n",
       "  </thead>\n",
       "  <tbody>\n",
       "    <tr>\n",
       "      <th>0</th>\n",
       "      <td>19.913564</td>\n",
       "      <td>1.684800</td>\n",
       "      <td>0.0</td>\n",
       "    </tr>\n",
       "    <tr>\n",
       "      <th>1</th>\n",
       "      <td>7.375695</td>\n",
       "      <td>1.140798</td>\n",
       "      <td>0.0</td>\n",
       "    </tr>\n",
       "    <tr>\n",
       "      <th>2</th>\n",
       "      <td>6.402010</td>\n",
       "      <td>0.723879</td>\n",
       "      <td>0.0</td>\n",
       "    </tr>\n",
       "  </tbody>\n",
       "</table>\n",
       "</div>"
      ],
      "text/plain": [
       "           0         1    2\n",
       "0  19.913564  1.684800  0.0\n",
       "1   7.375695  1.140798  0.0\n",
       "2   6.402010  0.723879  0.0"
      ]
     },
     "execution_count": 7,
     "metadata": {},
     "output_type": "execute_result"
    }
   ],
   "source": [
    "data3"
   ]
  },
  {
   "cell_type": "code",
   "execution_count": 8,
   "id": "c57578ba-afd0-4353-8fe3-c930b7b86ce6",
   "metadata": {},
   "outputs": [],
   "source": [
    "benefits = data3.melt()"
   ]
  },
  {
   "cell_type": "code",
   "execution_count": 9,
   "id": "03c25080-9970-4505-a4a9-daedf9b3af5f",
   "metadata": {
    "scrolled": true
   },
   "outputs": [
    {
     "data": {
      "text/html": [
       "<div>\n",
       "<style scoped>\n",
       "    .dataframe tbody tr th:only-of-type {\n",
       "        vertical-align: middle;\n",
       "    }\n",
       "\n",
       "    .dataframe tbody tr th {\n",
       "        vertical-align: top;\n",
       "    }\n",
       "\n",
       "    .dataframe thead th {\n",
       "        text-align: right;\n",
       "    }\n",
       "</style>\n",
       "<table border=\"1\" class=\"dataframe\">\n",
       "  <thead>\n",
       "    <tr style=\"text-align: right;\">\n",
       "      <th></th>\n",
       "      <th>variable</th>\n",
       "      <th>value</th>\n",
       "    </tr>\n",
       "  </thead>\n",
       "  <tbody>\n",
       "    <tr>\n",
       "      <th>0</th>\n",
       "      <td>0</td>\n",
       "      <td>19.913564</td>\n",
       "    </tr>\n",
       "    <tr>\n",
       "      <th>1</th>\n",
       "      <td>0</td>\n",
       "      <td>7.375695</td>\n",
       "    </tr>\n",
       "    <tr>\n",
       "      <th>2</th>\n",
       "      <td>0</td>\n",
       "      <td>6.402010</td>\n",
       "    </tr>\n",
       "    <tr>\n",
       "      <th>3</th>\n",
       "      <td>1</td>\n",
       "      <td>1.684800</td>\n",
       "    </tr>\n",
       "    <tr>\n",
       "      <th>4</th>\n",
       "      <td>1</td>\n",
       "      <td>1.140798</td>\n",
       "    </tr>\n",
       "    <tr>\n",
       "      <th>5</th>\n",
       "      <td>1</td>\n",
       "      <td>0.723879</td>\n",
       "    </tr>\n",
       "    <tr>\n",
       "      <th>6</th>\n",
       "      <td>2</td>\n",
       "      <td>0.000000</td>\n",
       "    </tr>\n",
       "    <tr>\n",
       "      <th>7</th>\n",
       "      <td>2</td>\n",
       "      <td>0.000000</td>\n",
       "    </tr>\n",
       "    <tr>\n",
       "      <th>8</th>\n",
       "      <td>2</td>\n",
       "      <td>0.000000</td>\n",
       "    </tr>\n",
       "  </tbody>\n",
       "</table>\n",
       "</div>"
      ],
      "text/plain": [
       "   variable      value\n",
       "0         0  19.913564\n",
       "1         0   7.375695\n",
       "2         0   6.402010\n",
       "3         1   1.684800\n",
       "4         1   1.140798\n",
       "5         1   0.723879\n",
       "6         2   0.000000\n",
       "7         2   0.000000\n",
       "8         2   0.000000"
      ]
     },
     "execution_count": 9,
     "metadata": {},
     "output_type": "execute_result"
    }
   ],
   "source": [
    "benefits"
   ]
  },
  {
   "cell_type": "markdown",
   "id": "1fd8c0b1-d018-473c-a979-c27863a7e63e",
   "metadata": {},
   "source": [
    "#### Equivalent annual cost"
   ]
  },
  {
   "cell_type": "markdown",
   "id": "d2df6706-41e9-4e4d-9abf-c82b9c695230",
   "metadata": {},
   "source": [
    "#### Discount rate of 2.5%"
   ]
  },
  {
   "cell_type": "code",
   "execution_count": 10,
   "id": "8ea6d4de-559e-405c-9d3a-ecf54ed3bd82",
   "metadata": {},
   "outputs": [],
   "source": [
    "ops = [1.0, 1.01, 1.025]\n",
    "tfs = [0, 0.25, 1]\n",
    "ci  = [0,1,2]\n",
    "\n",
    "eac_df_r1 = pd.DataFrame(index = [0,1,2], columns = [0,1,2])\n",
    "\n",
    "for i in range(len(ops)):\n",
    "    for j in range(len(ci)):\n",
    "        op = ops[i]\n",
    "        tf = tfs[i]\n",
    "        cis = ci[j]\n",
    "        r = 0.025\n",
    "        n = 15\n",
    "        maintenance = 0.2\n",
    "\n",
    "        eac_df_r1.loc[i,j] = investment_cost_calculator(r , n, maintenance, op, tf, cis)"
   ]
  },
  {
   "cell_type": "code",
   "execution_count": 11,
   "id": "be8e55a3-dd42-469e-a6d1-c0cdf3de9f88",
   "metadata": {},
   "outputs": [
    {
     "data": {
      "text/html": [
       "<div>\n",
       "<style scoped>\n",
       "    .dataframe tbody tr th:only-of-type {\n",
       "        vertical-align: middle;\n",
       "    }\n",
       "\n",
       "    .dataframe tbody tr th {\n",
       "        vertical-align: top;\n",
       "    }\n",
       "\n",
       "    .dataframe thead th {\n",
       "        text-align: right;\n",
       "    }\n",
       "</style>\n",
       "<table border=\"1\" class=\"dataframe\">\n",
       "  <thead>\n",
       "    <tr style=\"text-align: right;\">\n",
       "      <th></th>\n",
       "      <th>0</th>\n",
       "      <th>1</th>\n",
       "      <th>2</th>\n",
       "    </tr>\n",
       "  </thead>\n",
       "  <tbody>\n",
       "    <tr>\n",
       "      <th>0</th>\n",
       "      <td>0.493093</td>\n",
       "      <td>0.350193</td>\n",
       "      <td>0.0</td>\n",
       "    </tr>\n",
       "    <tr>\n",
       "      <th>1</th>\n",
       "      <td>0.493093</td>\n",
       "      <td>0.350193</td>\n",
       "      <td>0.0</td>\n",
       "    </tr>\n",
       "    <tr>\n",
       "      <th>2</th>\n",
       "      <td>0.493093</td>\n",
       "      <td>0.350193</td>\n",
       "      <td>0.0</td>\n",
       "    </tr>\n",
       "  </tbody>\n",
       "</table>\n",
       "</div>"
      ],
      "text/plain": [
       "          0         1    2\n",
       "0  0.493093  0.350193  0.0\n",
       "1  0.493093  0.350193  0.0\n",
       "2  0.493093  0.350193  0.0"
      ]
     },
     "execution_count": 11,
     "metadata": {},
     "output_type": "execute_result"
    }
   ],
   "source": [
    "eac_df_r1 "
   ]
  },
  {
   "cell_type": "markdown",
   "id": "83fcca10-279f-4cd6-9041-791b89ddbb2d",
   "metadata": {},
   "source": [
    "#### Discount rate of 5.5%"
   ]
  },
  {
   "cell_type": "code",
   "execution_count": 12,
   "id": "5dde12ec-8b05-4cd1-a74f-513e64b87ec4",
   "metadata": {},
   "outputs": [],
   "source": [
    "ops = [1.0, 1.01, 1.025]\n",
    "tfs = [0, 0.25, 1]\n",
    "ci  = [0,1,2]\n",
    "\n",
    "eac_df_r2 = pd.DataFrame(index = [0,1,2], columns = [0,1,2])\n",
    "\n",
    "for i in range(len(ops)):\n",
    "    for j in range(len(ci)):\n",
    "        op = ops[i]\n",
    "        tf = tfs[i]\n",
    "        cis = ci[j]\n",
    "        r = 0.055\n",
    "        n = 15\n",
    "        maintenance = 0.2\n",
    "\n",
    "        eac_df_r2.loc[i,j] = investment_cost_calculator(r , n, maintenance, op, tf, cis)"
   ]
  },
  {
   "cell_type": "code",
   "execution_count": 13,
   "id": "c6db60e7-9645-476c-bde2-f027d47575b7",
   "metadata": {},
   "outputs": [
    {
     "data": {
      "text/html": [
       "<div>\n",
       "<style scoped>\n",
       "    .dataframe tbody tr th:only-of-type {\n",
       "        vertical-align: middle;\n",
       "    }\n",
       "\n",
       "    .dataframe tbody tr th {\n",
       "        vertical-align: top;\n",
       "    }\n",
       "\n",
       "    .dataframe thead th {\n",
       "        text-align: right;\n",
       "    }\n",
       "</style>\n",
       "<table border=\"1\" class=\"dataframe\">\n",
       "  <thead>\n",
       "    <tr style=\"text-align: right;\">\n",
       "      <th></th>\n",
       "      <th>0</th>\n",
       "      <th>1</th>\n",
       "      <th>2</th>\n",
       "    </tr>\n",
       "  </thead>\n",
       "  <tbody>\n",
       "    <tr>\n",
       "      <th>0</th>\n",
       "      <td>0.608231</td>\n",
       "      <td>0.431964</td>\n",
       "      <td>0.0</td>\n",
       "    </tr>\n",
       "    <tr>\n",
       "      <th>1</th>\n",
       "      <td>0.608231</td>\n",
       "      <td>0.431964</td>\n",
       "      <td>0.0</td>\n",
       "    </tr>\n",
       "    <tr>\n",
       "      <th>2</th>\n",
       "      <td>0.608231</td>\n",
       "      <td>0.431964</td>\n",
       "      <td>0.0</td>\n",
       "    </tr>\n",
       "  </tbody>\n",
       "</table>\n",
       "</div>"
      ],
      "text/plain": [
       "          0         1    2\n",
       "0  0.608231  0.431964  0.0\n",
       "1  0.608231  0.431964  0.0\n",
       "2  0.608231  0.431964  0.0"
      ]
     },
     "execution_count": 13,
     "metadata": {},
     "output_type": "execute_result"
    }
   ],
   "source": [
    "eac_df_r2"
   ]
  },
  {
   "cell_type": "code",
   "execution_count": 14,
   "id": "9a288497-8d7d-4c0a-a4c2-396197acce14",
   "metadata": {},
   "outputs": [
    {
     "data": {
      "text/html": [
       "<div>\n",
       "<style scoped>\n",
       "    .dataframe tbody tr th:only-of-type {\n",
       "        vertical-align: middle;\n",
       "    }\n",
       "\n",
       "    .dataframe tbody tr th {\n",
       "        vertical-align: top;\n",
       "    }\n",
       "\n",
       "    .dataframe thead th {\n",
       "        text-align: right;\n",
       "    }\n",
       "</style>\n",
       "<table border=\"1\" class=\"dataframe\">\n",
       "  <thead>\n",
       "    <tr style=\"text-align: right;\">\n",
       "      <th></th>\n",
       "      <th>variable</th>\n",
       "      <th>value</th>\n",
       "    </tr>\n",
       "  </thead>\n",
       "  <tbody>\n",
       "    <tr>\n",
       "      <th>0</th>\n",
       "      <td>0</td>\n",
       "      <td>0.493093</td>\n",
       "    </tr>\n",
       "    <tr>\n",
       "      <th>1</th>\n",
       "      <td>0</td>\n",
       "      <td>0.493093</td>\n",
       "    </tr>\n",
       "    <tr>\n",
       "      <th>2</th>\n",
       "      <td>0</td>\n",
       "      <td>0.493093</td>\n",
       "    </tr>\n",
       "    <tr>\n",
       "      <th>3</th>\n",
       "      <td>1</td>\n",
       "      <td>0.350193</td>\n",
       "    </tr>\n",
       "    <tr>\n",
       "      <th>4</th>\n",
       "      <td>1</td>\n",
       "      <td>0.350193</td>\n",
       "    </tr>\n",
       "    <tr>\n",
       "      <th>5</th>\n",
       "      <td>1</td>\n",
       "      <td>0.350193</td>\n",
       "    </tr>\n",
       "    <tr>\n",
       "      <th>6</th>\n",
       "      <td>2</td>\n",
       "      <td>0.0</td>\n",
       "    </tr>\n",
       "    <tr>\n",
       "      <th>7</th>\n",
       "      <td>2</td>\n",
       "      <td>0.0</td>\n",
       "    </tr>\n",
       "    <tr>\n",
       "      <th>8</th>\n",
       "      <td>2</td>\n",
       "      <td>0.0</td>\n",
       "    </tr>\n",
       "  </tbody>\n",
       "</table>\n",
       "</div>"
      ],
      "text/plain": [
       "   variable     value\n",
       "0         0  0.493093\n",
       "1         0  0.493093\n",
       "2         0  0.493093\n",
       "3         1  0.350193\n",
       "4         1  0.350193\n",
       "5         1  0.350193\n",
       "6         2       0.0\n",
       "7         2       0.0\n",
       "8         2       0.0"
      ]
     },
     "execution_count": 14,
     "metadata": {},
     "output_type": "execute_result"
    }
   ],
   "source": [
    "cost1 = eac_df_r1.melt()\n",
    "cost1"
   ]
  },
  {
   "cell_type": "code",
   "execution_count": 15,
   "id": "88211528-306a-4286-a9b8-2755bbb14ac3",
   "metadata": {},
   "outputs": [
    {
     "data": {
      "text/html": [
       "<div>\n",
       "<style scoped>\n",
       "    .dataframe tbody tr th:only-of-type {\n",
       "        vertical-align: middle;\n",
       "    }\n",
       "\n",
       "    .dataframe tbody tr th {\n",
       "        vertical-align: top;\n",
       "    }\n",
       "\n",
       "    .dataframe thead th {\n",
       "        text-align: right;\n",
       "    }\n",
       "</style>\n",
       "<table border=\"1\" class=\"dataframe\">\n",
       "  <thead>\n",
       "    <tr style=\"text-align: right;\">\n",
       "      <th></th>\n",
       "      <th>variable</th>\n",
       "      <th>value</th>\n",
       "    </tr>\n",
       "  </thead>\n",
       "  <tbody>\n",
       "    <tr>\n",
       "      <th>0</th>\n",
       "      <td>0</td>\n",
       "      <td>0.608231</td>\n",
       "    </tr>\n",
       "    <tr>\n",
       "      <th>1</th>\n",
       "      <td>0</td>\n",
       "      <td>0.608231</td>\n",
       "    </tr>\n",
       "    <tr>\n",
       "      <th>2</th>\n",
       "      <td>0</td>\n",
       "      <td>0.608231</td>\n",
       "    </tr>\n",
       "    <tr>\n",
       "      <th>3</th>\n",
       "      <td>1</td>\n",
       "      <td>0.431964</td>\n",
       "    </tr>\n",
       "    <tr>\n",
       "      <th>4</th>\n",
       "      <td>1</td>\n",
       "      <td>0.431964</td>\n",
       "    </tr>\n",
       "    <tr>\n",
       "      <th>5</th>\n",
       "      <td>1</td>\n",
       "      <td>0.431964</td>\n",
       "    </tr>\n",
       "    <tr>\n",
       "      <th>6</th>\n",
       "      <td>2</td>\n",
       "      <td>0.0</td>\n",
       "    </tr>\n",
       "    <tr>\n",
       "      <th>7</th>\n",
       "      <td>2</td>\n",
       "      <td>0.0</td>\n",
       "    </tr>\n",
       "    <tr>\n",
       "      <th>8</th>\n",
       "      <td>2</td>\n",
       "      <td>0.0</td>\n",
       "    </tr>\n",
       "  </tbody>\n",
       "</table>\n",
       "</div>"
      ],
      "text/plain": [
       "   variable     value\n",
       "0         0  0.608231\n",
       "1         0  0.608231\n",
       "2         0  0.608231\n",
       "3         1  0.431964\n",
       "4         1  0.431964\n",
       "5         1  0.431964\n",
       "6         2       0.0\n",
       "7         2       0.0\n",
       "8         2       0.0"
      ]
     },
     "execution_count": 15,
     "metadata": {},
     "output_type": "execute_result"
    }
   ],
   "source": [
    "cost2 = eac_df_r2.melt()\n",
    "cost2"
   ]
  },
  {
   "cell_type": "code",
   "execution_count": 16,
   "id": "131fd1c1-8fc0-4c20-8ddb-4a595f22f70c",
   "metadata": {},
   "outputs": [],
   "source": [
    "benefits.to_excel('benefits.xlsx')\n",
    "cost1.to_excel('cost1.xlsx')\n",
    "cost2.to_excel('cost2.xlsx')"
   ]
  }
 ],
 "metadata": {
  "kernelspec": {
   "display_name": "Python 3 (ipykernel)",
   "language": "python",
   "name": "python3"
  },
  "language_info": {
   "codemirror_mode": {
    "name": "ipython",
    "version": 3
   },
   "file_extension": ".py",
   "mimetype": "text/x-python",
   "name": "python",
   "nbconvert_exporter": "python",
   "pygments_lexer": "ipython3",
   "version": "3.12.3"
  }
 },
 "nbformat": 4,
 "nbformat_minor": 5
}
