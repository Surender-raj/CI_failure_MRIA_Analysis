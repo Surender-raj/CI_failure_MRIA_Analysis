{
 "cells": [
  {
   "cell_type": "code",
   "execution_count": 1,
   "id": "2abd2b75-0614-4db9-9764-84195184c684",
   "metadata": {},
   "outputs": [],
   "source": [
    "import pandas as pd\n",
    "import matplotlib.pyplot as plt\n",
    "import os\n",
    "import math\n",
    "import seaborn as sns\n",
    "import matplotlib.patches as patches\n",
    "import matplotlib.gridspec as gridspec\n",
    "import numpy as np"
   ]
  },
  {
   "cell_type": "code",
   "execution_count": 2,
   "id": "b6b3d468-57a1-4bc9-8fd7-48b4d88a434e",
   "metadata": {},
   "outputs": [],
   "source": [
    "# Define Overproduction and Flex parameters\n",
    "RP = [10,100,1000,10000]"
   ]
  },
  {
   "cell_type": "code",
   "execution_count": 3,
   "id": "b70d682c-fcc7-4739-bb5e-741e9a8585f9",
   "metadata": {},
   "outputs": [],
   "source": [
    "def expected_annual_impact_calculation(op1, if1, cif, RP, k):\n",
    "\n",
    "    total_cost_results = pd.DataFrame()\n",
    "    for i in range(len(RP)):\n",
    "\n",
    "            rp = RP[i]\n",
    "            ci_f = cif\n",
    "            op_factor = op1\n",
    "            imp_flex  = if1\n",
    "            path = os.path.join(os.path.dirname(os.getcwd()), 'results')\n",
    "            \n",
    "            # Rationing corrected output loss\n",
    "            Xbase = pd.read_excel(os.path.join(path, f'Xbase_{op_factor}_{imp_flex}_mosek_{ci_f}_{rp}_{k}.xlsx'), index_col = [0], header = [1])\n",
    "            Xbase = Xbase.drop(\"Index2\", axis = 'index')\n",
    "            Xbase_sum = Xbase.sum().sum()\n",
    "            \n",
    "            X1 = pd.read_excel(os.path.join(path, f'Xdis3_{op_factor}_{imp_flex}_mosek_{ci_f}_{rp}_{k}.xlsx'), index_col = [0], header = [1])\n",
    "            X1 = X1.drop(\"Index2\", axis = 'index')\n",
    "            X1_sum = X1.sum().sum()\n",
    "            \n",
    "            rat = pd.read_excel(os.path.join(path, f'Rat_{op_factor}_{imp_flex}_mosek_{ci_f}_{rp}_{k}.xlsx'), index_col = [0], header = [0,1])\n",
    "            rat_sum = rat.sum().sum()\n",
    "            \n",
    "            c3 = (Xbase_sum - X1_sum) - rat_sum\n",
    "            \n",
    "            \n",
    "            # Actual inefficiency\n",
    "            ineff1 = pd.read_excel(os.path.join(path, f'ineff3_{op_factor}_{imp_flex}_mosek_{ci_f}_{rp}_{k}.xlsx'), index_col = [0], header = [1])\n",
    "            ineff1 = ineff1.drop(\"Index2\", axis = 'index')\n",
    "            ineff1 = ineff1.sum().sum()\n",
    "            \n",
    "            c2 = ineff1\n",
    "            \n",
    "            # Production equivalent of ratioing\n",
    "            X2 = pd.read_excel(os.path.join(path, f'Xdis5_{op_factor}_{imp_flex}__mosek_{ci_f}_{rp}_{k}.xlsx'), index_col = [0], header = [1])\n",
    "            X2 = X2.drop(\"Index2\", axis = 'index')\n",
    "            X2_sum = X2.sum().sum()\n",
    "            c1 = X2_sum \n",
    "\n",
    "            cost = (c1 + c2+ c3 ) / 365\n",
    "            total_cost_results.loc[rp, 'cost_per_day'] = cost\n",
    "\n",
    "    recovery_duration = []\n",
    "    no_of_flooded = []\n",
    "\n",
    "    for i in range(len(RP)):\n",
    "        rp = RP[i]\n",
    "        path = os.path.join(os.path.dirname(os.getcwd()), 'results')\n",
    "        osm = pd.read_excel(os.path.join(path, f'osm_industrial_{op_factor}_{imp_flex}_mosek_{rp}_{k}.xlsx'), index_col = [0], header = [0])\n",
    "        osm_failed = osm[osm['flood_fail'] == 0]\n",
    "        osm_failed['duration'] = (osm_failed['depth'] * 16.6) + 7.738  # From T. Endendijk et al.(2024)\n",
    "        recovery_duration.append(osm_failed['duration'].mean())\n",
    "        no_of_flooded.append(len(osm_failed))\n",
    "\n",
    "    no_of_flooded_log = [math.log10(x+1) for x in no_of_flooded]\n",
    "    total_cost_results['cost'] = total_cost_results['cost_per_day'] * recovery_duration * no_of_flooded_log\n",
    "    return total_cost_results"
   ]
  },
  {
   "cell_type": "code",
   "execution_count": 4,
   "id": "35e7be8f-7a80-4194-8300-d726640d42c9",
   "metadata": {
    "scrolled": true
   },
   "outputs": [
    {
     "name": "stderr",
     "output_type": "stream",
     "text": [
      "C:\\Users\\sva100\\AppData\\Local\\Temp\\ipykernel_34844\\4180137359.py:51: SettingWithCopyWarning: \n",
      "A value is trying to be set on a copy of a slice from a DataFrame.\n",
      "Try using .loc[row_indexer,col_indexer] = value instead\n",
      "\n",
      "See the caveats in the documentation: https://pandas.pydata.org/pandas-docs/stable/user_guide/indexing.html#returning-a-view-versus-a-copy\n",
      "  osm_failed['duration'] = (osm_failed['depth'] * 16.6) + 7.738  # From T. Endendijk et al.(2024)\n",
      "C:\\Users\\sva100\\AppData\\Local\\Temp\\ipykernel_34844\\4180137359.py:51: SettingWithCopyWarning: \n",
      "A value is trying to be set on a copy of a slice from a DataFrame.\n",
      "Try using .loc[row_indexer,col_indexer] = value instead\n",
      "\n",
      "See the caveats in the documentation: https://pandas.pydata.org/pandas-docs/stable/user_guide/indexing.html#returning-a-view-versus-a-copy\n",
      "  osm_failed['duration'] = (osm_failed['depth'] * 16.6) + 7.738  # From T. Endendijk et al.(2024)\n",
      "C:\\Users\\sva100\\AppData\\Local\\Temp\\ipykernel_34844\\4180137359.py:51: SettingWithCopyWarning: \n",
      "A value is trying to be set on a copy of a slice from a DataFrame.\n",
      "Try using .loc[row_indexer,col_indexer] = value instead\n",
      "\n",
      "See the caveats in the documentation: https://pandas.pydata.org/pandas-docs/stable/user_guide/indexing.html#returning-a-view-versus-a-copy\n",
      "  osm_failed['duration'] = (osm_failed['depth'] * 16.6) + 7.738  # From T. Endendijk et al.(2024)\n",
      "C:\\Users\\sva100\\AppData\\Local\\Temp\\ipykernel_34844\\4180137359.py:51: SettingWithCopyWarning: \n",
      "A value is trying to be set on a copy of a slice from a DataFrame.\n",
      "Try using .loc[row_indexer,col_indexer] = value instead\n",
      "\n",
      "See the caveats in the documentation: https://pandas.pydata.org/pandas-docs/stable/user_guide/indexing.html#returning-a-view-versus-a-copy\n",
      "  osm_failed['duration'] = (osm_failed['depth'] * 16.6) + 7.738  # From T. Endendijk et al.(2024)\n",
      "C:\\Users\\sva100\\AppData\\Local\\Temp\\ipykernel_34844\\4180137359.py:51: SettingWithCopyWarning: \n",
      "A value is trying to be set on a copy of a slice from a DataFrame.\n",
      "Try using .loc[row_indexer,col_indexer] = value instead\n",
      "\n",
      "See the caveats in the documentation: https://pandas.pydata.org/pandas-docs/stable/user_guide/indexing.html#returning-a-view-versus-a-copy\n",
      "  osm_failed['duration'] = (osm_failed['depth'] * 16.6) + 7.738  # From T. Endendijk et al.(2024)\n",
      "C:\\Users\\sva100\\AppData\\Local\\Temp\\ipykernel_34844\\4180137359.py:51: SettingWithCopyWarning: \n",
      "A value is trying to be set on a copy of a slice from a DataFrame.\n",
      "Try using .loc[row_indexer,col_indexer] = value instead\n",
      "\n",
      "See the caveats in the documentation: https://pandas.pydata.org/pandas-docs/stable/user_guide/indexing.html#returning-a-view-versus-a-copy\n",
      "  osm_failed['duration'] = (osm_failed['depth'] * 16.6) + 7.738  # From T. Endendijk et al.(2024)\n",
      "C:\\Users\\sva100\\AppData\\Local\\Temp\\ipykernel_34844\\4180137359.py:51: SettingWithCopyWarning: \n",
      "A value is trying to be set on a copy of a slice from a DataFrame.\n",
      "Try using .loc[row_indexer,col_indexer] = value instead\n",
      "\n",
      "See the caveats in the documentation: https://pandas.pydata.org/pandas-docs/stable/user_guide/indexing.html#returning-a-view-versus-a-copy\n",
      "  osm_failed['duration'] = (osm_failed['depth'] * 16.6) + 7.738  # From T. Endendijk et al.(2024)\n",
      "C:\\Users\\sva100\\AppData\\Local\\Temp\\ipykernel_34844\\4180137359.py:51: SettingWithCopyWarning: \n",
      "A value is trying to be set on a copy of a slice from a DataFrame.\n",
      "Try using .loc[row_indexer,col_indexer] = value instead\n",
      "\n",
      "See the caveats in the documentation: https://pandas.pydata.org/pandas-docs/stable/user_guide/indexing.html#returning-a-view-versus-a-copy\n",
      "  osm_failed['duration'] = (osm_failed['depth'] * 16.6) + 7.738  # From T. Endendijk et al.(2024)\n"
     ]
    }
   ],
   "source": [
    "total_cost_results_ci = expected_annual_impact_calculation(1.01, 0.25, 'ci', RP, 1)\n",
    "total_cost_results_noci = expected_annual_impact_calculation(1.01, 0.25, 'noci', RP, 1)"
   ]
  },
  {
   "cell_type": "code",
   "execution_count": 5,
   "id": "58afeef1-d87b-471a-9d51-ca7b90ac7a1e",
   "metadata": {},
   "outputs": [
    {
     "data": {
      "text/html": [
       "<div>\n",
       "<style scoped>\n",
       "    .dataframe tbody tr th:only-of-type {\n",
       "        vertical-align: middle;\n",
       "    }\n",
       "\n",
       "    .dataframe tbody tr th {\n",
       "        vertical-align: top;\n",
       "    }\n",
       "\n",
       "    .dataframe thead th {\n",
       "        text-align: right;\n",
       "    }\n",
       "</style>\n",
       "<table border=\"1\" class=\"dataframe\">\n",
       "  <thead>\n",
       "    <tr style=\"text-align: right;\">\n",
       "      <th></th>\n",
       "      <th>cost_per_day</th>\n",
       "      <th>cost</th>\n",
       "    </tr>\n",
       "  </thead>\n",
       "  <tbody>\n",
       "    <tr>\n",
       "      <th>10</th>\n",
       "      <td>0.001043</td>\n",
       "      <td>0.017633</td>\n",
       "    </tr>\n",
       "    <tr>\n",
       "      <th>100</th>\n",
       "      <td>0.001043</td>\n",
       "      <td>0.031464</td>\n",
       "    </tr>\n",
       "    <tr>\n",
       "      <th>1000</th>\n",
       "      <td>6.532427</td>\n",
       "      <td>482.114273</td>\n",
       "    </tr>\n",
       "    <tr>\n",
       "      <th>10000</th>\n",
       "      <td>26.601551</td>\n",
       "      <td>2507.632787</td>\n",
       "    </tr>\n",
       "  </tbody>\n",
       "</table>\n",
       "</div>"
      ],
      "text/plain": [
       "       cost_per_day         cost\n",
       "10         0.001043     0.017633\n",
       "100        0.001043     0.031464\n",
       "1000       6.532427   482.114273\n",
       "10000     26.601551  2507.632787"
      ]
     },
     "execution_count": 5,
     "metadata": {},
     "output_type": "execute_result"
    }
   ],
   "source": [
    "total_cost_results_ci"
   ]
  },
  {
   "cell_type": "code",
   "execution_count": 6,
   "id": "77af2de2-226c-4be0-a4d5-37120464d2bc",
   "metadata": {},
   "outputs": [
    {
     "data": {
      "text/html": [
       "<div>\n",
       "<style scoped>\n",
       "    .dataframe tbody tr th:only-of-type {\n",
       "        vertical-align: middle;\n",
       "    }\n",
       "\n",
       "    .dataframe tbody tr th {\n",
       "        vertical-align: top;\n",
       "    }\n",
       "\n",
       "    .dataframe thead th {\n",
       "        text-align: right;\n",
       "    }\n",
       "</style>\n",
       "<table border=\"1\" class=\"dataframe\">\n",
       "  <thead>\n",
       "    <tr style=\"text-align: right;\">\n",
       "      <th></th>\n",
       "      <th>cost_per_day</th>\n",
       "      <th>cost</th>\n",
       "    </tr>\n",
       "  </thead>\n",
       "  <tbody>\n",
       "    <tr>\n",
       "      <th>10</th>\n",
       "      <td>0.001043</td>\n",
       "      <td>0.017633</td>\n",
       "    </tr>\n",
       "    <tr>\n",
       "      <th>100</th>\n",
       "      <td>0.001043</td>\n",
       "      <td>0.031464</td>\n",
       "    </tr>\n",
       "    <tr>\n",
       "      <th>1000</th>\n",
       "      <td>4.299437</td>\n",
       "      <td>317.312426</td>\n",
       "    </tr>\n",
       "    <tr>\n",
       "      <th>10000</th>\n",
       "      <td>18.939380</td>\n",
       "      <td>1785.347369</td>\n",
       "    </tr>\n",
       "  </tbody>\n",
       "</table>\n",
       "</div>"
      ],
      "text/plain": [
       "       cost_per_day         cost\n",
       "10         0.001043     0.017633\n",
       "100        0.001043     0.031464\n",
       "1000       4.299437   317.312426\n",
       "10000     18.939380  1785.347369"
      ]
     },
     "execution_count": 6,
     "metadata": {},
     "output_type": "execute_result"
    }
   ],
   "source": [
    "total_cost_results_noci"
   ]
  },
  {
   "cell_type": "markdown",
   "id": "05c48ed6-ff1d-414a-ad46-f790dbff3c2b",
   "metadata": {},
   "source": [
    "#### Data for heatmap"
   ]
  },
  {
   "cell_type": "code",
   "execution_count": 7,
   "id": "9eee4295-31a5-47c9-80dc-8e49fa2d7c3e",
   "metadata": {},
   "outputs": [],
   "source": [
    "path = os.path.dirname(os.getcwd())"
   ]
  },
  {
   "cell_type": "code",
   "execution_count": 8,
   "id": "d0e08077-5335-4e40-8560-2e2e189a5c34",
   "metadata": {},
   "outputs": [],
   "source": [
    "data = pd.read_excel(os.path.join(path, 'eac_ci_df.xlsx'), index_col = 0)\n",
    "data1 = pd.read_excel(os.path.join(path, 'eac_noci_df.xlsx'), index_col = 0)"
   ]
  },
  {
   "cell_type": "code",
   "execution_count": 9,
   "id": "3140b7bc-b8dc-47a9-82a6-9cf739684f40",
   "metadata": {},
   "outputs": [],
   "source": [
    "font = 'Calibri'\n",
    "c11 = '#780000'\n",
    "c21 = '#c1121f'\n",
    "size_font = 10\n",
    "cmap = 'OrRd'"
   ]
  },
  {
   "cell_type": "code",
   "execution_count": 10,
   "id": "5f87ba30-f4f8-436f-be85-ebd68c3ac743",
   "metadata": {},
   "outputs": [],
   "source": [
    "data = data.iloc[:,0:3]"
   ]
  },
  {
   "cell_type": "code",
   "execution_count": 11,
   "id": "48c13630-acf5-45fb-8906-c0cb67358f1b",
   "metadata": {},
   "outputs": [],
   "source": [
    "data1 = data1.iloc[:,0:3]"
   ]
  },
  {
   "cell_type": "code",
   "execution_count": 12,
   "id": "004f73b5-b30d-4cb2-973e-9e978cbf1fca",
   "metadata": {},
   "outputs": [],
   "source": [
    "data2 = ((data -data1)/data)*100"
   ]
  },
  {
   "cell_type": "code",
   "execution_count": 13,
   "id": "95b788fa-5f0d-46ac-b309-d120a091ea7e",
   "metadata": {},
   "outputs": [
    {
     "data": {
      "text/html": [
       "<div>\n",
       "<style scoped>\n",
       "    .dataframe tbody tr th:only-of-type {\n",
       "        vertical-align: middle;\n",
       "    }\n",
       "\n",
       "    .dataframe tbody tr th {\n",
       "        vertical-align: top;\n",
       "    }\n",
       "\n",
       "    .dataframe thead th {\n",
       "        text-align: right;\n",
       "    }\n",
       "</style>\n",
       "<table border=\"1\" class=\"dataframe\">\n",
       "  <thead>\n",
       "    <tr style=\"text-align: right;\">\n",
       "      <th></th>\n",
       "      <th>0</th>\n",
       "      <th>1</th>\n",
       "      <th>2</th>\n",
       "    </tr>\n",
       "  </thead>\n",
       "  <tbody>\n",
       "    <tr>\n",
       "      <th>0</th>\n",
       "      <td>78.372861</td>\n",
       "      <td>23.465232</td>\n",
       "      <td>0.0</td>\n",
       "    </tr>\n",
       "    <tr>\n",
       "      <th>1</th>\n",
       "      <td>75.569998</td>\n",
       "      <td>32.361344</td>\n",
       "      <td>0.0</td>\n",
       "    </tr>\n",
       "    <tr>\n",
       "      <th>2</th>\n",
       "      <td>86.759804</td>\n",
       "      <td>42.559261</td>\n",
       "      <td>0.0</td>\n",
       "    </tr>\n",
       "  </tbody>\n",
       "</table>\n",
       "</div>"
      ],
      "text/plain": [
       "           0          1    2\n",
       "0  78.372861  23.465232  0.0\n",
       "1  75.569998  32.361344  0.0\n",
       "2  86.759804  42.559261  0.0"
      ]
     },
     "execution_count": 13,
     "metadata": {},
     "output_type": "execute_result"
    }
   ],
   "source": [
    "data2 "
   ]
  },
  {
   "cell_type": "code",
   "execution_count": 16,
   "id": "3d8cc481-d4c8-470c-acaf-38959d85ab69",
   "metadata": {},
   "outputs": [
    {
     "data": {
      "image/png": "[encoded data removed]",
      "text/plain": [
       "<Figure size 600x300 with 2 Axes>"
      ]
     },
     "metadata": {},
     "output_type": "display_data"
    }
   ],
   "source": [
    "fig = plt.figure(figsize=(6, 3))\n",
    "gs = gridspec.GridSpec(1, 2, height_ratios=[1])\n",
    "\n",
    "ax0 = fig.add_subplot(gs[0, 0])\n",
    "ax1 = fig.add_subplot(gs[0, 1])\n",
    "\n",
    "ax0.plot(total_cost_results_noci.index, total_cost_results_noci['cost']/1000, markersize =5, c = c21, linewidth = 1.5, marker = 'o', markerfacecolor='none', linestyle='--', label = 'without power disruption')\n",
    "ax0.plot(total_cost_results_ci.index, total_cost_results_ci['cost']/1000, markersize =5, c = c11, linewidth = 1.5, marker = 'o', markerfacecolor='none', linestyle='-' , label = 'with power disruption')\n",
    "ax0.fill_between(total_cost_results_ci.index, total_cost_results_ci['cost']/1000,\n",
    "                 color=c11, alpha=0.3)\n",
    "ax0.fill_between(total_cost_results_noci.index, total_cost_results_noci['cost']/1000,\n",
    "                 color=c21, alpha=0.3)\n",
    "\n",
    "# Axes scaling and limits\n",
    "ax0.set_xlim([10, 10000])\n",
    "ax0.set_ylim([0, 3])\n",
    "ax0.set_xscale('log')\n",
    "\n",
    "\n",
    "# Ticks and labels\n",
    "ax0.set_xticks(total_cost_results_ci.index)\n",
    "ax0.set_xticklabels(total_cost_results_ci.index, fontsize=10, fontname=font)\n",
    "ax0.set_yticks(np.linspace(0, 3, 4))  # You can change the ticks as needed\n",
    "ax0.tick_params(axis='y', labelsize=10)\n",
    "for label in ax0.get_yticklabels():\n",
    "    label.set_fontname(font)\n",
    "\n",
    "# Labels and legend\n",
    "ax0.set_xlabel('Return period (years)', fontsize=size_font, fontname=font)\n",
    "ax0.set_ylabel('Disaster Impact \\n(in billion €)', fontsize=size_font, fontname=font)\n",
    "ax0.legend(loc='upper left', prop={'family': font, 'size': size_font}, frameon=False)\n",
    "\n",
    "# Grid\n",
    "ax0.grid(True, which='both', linestyle='--', linewidth=0.7)\n",
    "\n",
    "\n",
    "y_labels = ['Rigid', 'Moderate', 'Flexible']\n",
    "x_labels = ['Vulnerable', 'Resistive', 'Fail-proof']\n",
    "\n",
    "# rounded_data1 = data.round(2).astype(str)\n",
    "# rounded_data2 = data2.round(2).astype(str)\n",
    "\n",
    "# combined_annot = rounded_data1 + '\\n' + rounded_data2\n",
    "\n",
    "ax1 = sns.heatmap(\n",
    "    data, \n",
    "    annot= False, \n",
    "    fmt='', \n",
    "    cmap=cmap, \n",
    "    cbar=False,\n",
    "    xticklabels=x_labels, \n",
    "    yticklabels=y_labels,\n",
    "    annot_kws={\"fontsize\": size_font, \"fontname\": font}\n",
    ")\n",
    "\n",
    "\n",
    "\n",
    "for i in range(data.shape[0]):\n",
    "    for j in range(data.shape[1]):\n",
    "        val1 = round(data.iloc[i, j], 2) \n",
    "        val2 = round(data2.iloc[i, j], 1)\n",
    "        ax1.text(\n",
    "            j + 0.5, i + 0.5,\n",
    "            f\"{val1}\\n({val2})\",\n",
    "            ha='center', va='center',\n",
    "            fontsize=size_font, fontname=font\n",
    "        )\n",
    "\n",
    "rect = patches.Rectangle(\n",
    "    (1, 1), 1, 1,\n",
    "    fill=False,\n",
    "    edgecolor='black',\n",
    "    linewidth=0.5,\n",
    "    linestyle='-'\n",
    ")\n",
    "ax1.add_patch(rect)\n",
    "\n",
    "\n",
    "\n",
    "ax1.set_xticklabels(x_labels, fontsize=size_font, fontname=font)\n",
    "ax1.set_yticklabels(y_labels, fontsize=size_font, fontname=font, rotation=90)\n",
    "ax1.set_xlabel('Substation resilience →', fontsize=size_font, fontname=font)\n",
    "ax1.set_ylabel('← Economic resilience', fontsize=size_font, fontname=font)\n",
    "ax1.set_title('Expected Annual Impact (in million €)', fontsize=size_font, fontname=font, fontweight='bold')\n",
    "\n",
    "ax0.text(-0.2, 1, 'a', transform=ax0.transAxes,\n",
    "         ha='center', va='top', fontweight='bold', fontsize=10, family='calibri')\n",
    "\n",
    "ax1.text(-0.2, 1, 'b', transform=ax1.transAxes,\n",
    "         ha='center', va='top', fontweight='bold', fontsize=10, family='calibri')\n",
    "plt.tight_layout()\n",
    "plt.savefig('Figure2_RPcurves.png', dpi = 300, bbox_inches = 'tight')\n",
    "plt.show()\n"
   ]
  },
  {
   "cell_type": "code",
   "execution_count": null,
   "id": "e5a641a7-33f7-4626-a562-45a743970eb0",
   "metadata": {},
   "outputs": [],
   "source": []
  }
 ],
 "metadata": {
  "kernelspec": {
   "display_name": "Python 3 (ipykernel)",
   "language": "python",
   "name": "python3"
  },
  "language_info": {
   "codemirror_mode": {
    "name": "ipython",
    "version": 3
   },
   "file_extension": ".py",
   "mimetype": "text/x-python",
   "name": "python",
   "nbconvert_exporter": "python",
   "pygments_lexer": "ipython3",
   "version": "3.12.3"
  }
 },
 "nbformat": 4,
 "nbformat_minor": 5
}
