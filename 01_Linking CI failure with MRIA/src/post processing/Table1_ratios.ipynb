{
 "cells": [
  {
   "cell_type": "code",
   "execution_count": 1,
   "id": "47e2802c-a319-4668-8898-3b60b07bb888",
   "metadata": {},
   "outputs": [],
   "source": [
    "import pandas as pd\n",
    "import os\n",
    "import geopandas as gpd"
   ]
  },
  {
   "cell_type": "code",
   "execution_count": 2,
   "id": "9ffa8be8-0ee1-4896-bd76-3fa7a5aefc6c",
   "metadata": {},
   "outputs": [],
   "source": [
    "path = os.path.dirname(os.getcwd())"
   ]
  },
  {
   "cell_type": "code",
   "execution_count": 3,
   "id": "0e605011-f946-419d-9714-3c1d6f056282",
   "metadata": {},
   "outputs": [
    {
     "data": {
      "text/html": [
       "<div>\n",
       "<style scoped>\n",
       "    .dataframe tbody tr th:only-of-type {\n",
       "        vertical-align: middle;\n",
       "    }\n",
       "\n",
       "    .dataframe tbody tr th {\n",
       "        vertical-align: top;\n",
       "    }\n",
       "\n",
       "    .dataframe thead th {\n",
       "        text-align: right;\n",
       "    }\n",
       "</style>\n",
       "<table border=\"1\" class=\"dataframe\">\n",
       "  <thead>\n",
       "    <tr style=\"text-align: right;\">\n",
       "      <th></th>\n",
       "      <th>0</th>\n",
       "      <th>1</th>\n",
       "      <th>2</th>\n",
       "    </tr>\n",
       "  </thead>\n",
       "  <tbody>\n",
       "    <tr>\n",
       "      <th>0</th>\n",
       "      <td>25.408750</td>\n",
       "      <td>7.179986</td>\n",
       "      <td>5.495185</td>\n",
       "    </tr>\n",
       "    <tr>\n",
       "      <th>1</th>\n",
       "      <td>9.760083</td>\n",
       "      <td>3.525186</td>\n",
       "      <td>2.384388</td>\n",
       "    </tr>\n",
       "    <tr>\n",
       "      <th>2</th>\n",
       "      <td>7.379005</td>\n",
       "      <td>1.700874</td>\n",
       "      <td>0.976995</td>\n",
       "    </tr>\n",
       "  </tbody>\n",
       "</table>\n",
       "</div>"
      ],
      "text/plain": [
       "           0         1         2\n",
       "0  25.408750  7.179986  5.495185\n",
       "1   9.760083  3.525186  2.384388\n",
       "2   7.379005  1.700874  0.976995"
      ]
     },
     "execution_count": 3,
     "metadata": {},
     "output_type": "execute_result"
    }
   ],
   "source": [
    "#### Data of EAI with CI\n",
    "data1 = pd.read_excel(os.path.join(path, 'eac_ci_df.xlsx'), index_col = 0)\n",
    "data1 = data1.loc[:,0:2]\n",
    "data1 = data1\n",
    "data1"
   ]
  },
  {
   "cell_type": "code",
   "execution_count": 4,
   "id": "4c054025-f1a5-4251-a59a-bb511bbc7bbe",
   "metadata": {},
   "outputs": [
    {
     "data": {
      "text/html": [
       "<div>\n",
       "<style scoped>\n",
       "    .dataframe tbody tr th:only-of-type {\n",
       "        vertical-align: middle;\n",
       "    }\n",
       "\n",
       "    .dataframe tbody tr th {\n",
       "        vertical-align: top;\n",
       "    }\n",
       "\n",
       "    .dataframe thead th {\n",
       "        text-align: right;\n",
       "    }\n",
       "</style>\n",
       "<table border=\"1\" class=\"dataframe\">\n",
       "  <thead>\n",
       "    <tr style=\"text-align: right;\">\n",
       "      <th></th>\n",
       "      <th>0</th>\n",
       "      <th>1</th>\n",
       "      <th>2</th>\n",
       "    </tr>\n",
       "  </thead>\n",
       "  <tbody>\n",
       "    <tr>\n",
       "      <th>0</th>\n",
       "      <td>5.495185</td>\n",
       "      <td>5.495185</td>\n",
       "      <td>5.495185</td>\n",
       "    </tr>\n",
       "    <tr>\n",
       "      <th>1</th>\n",
       "      <td>2.384388</td>\n",
       "      <td>2.384388</td>\n",
       "      <td>2.384388</td>\n",
       "    </tr>\n",
       "    <tr>\n",
       "      <th>2</th>\n",
       "      <td>0.976995</td>\n",
       "      <td>0.976995</td>\n",
       "      <td>0.976995</td>\n",
       "    </tr>\n",
       "  </tbody>\n",
       "</table>\n",
       "</div>"
      ],
      "text/plain": [
       "          0         1         2\n",
       "0  5.495185  5.495185  5.495185\n",
       "1  2.384388  2.384388  2.384388\n",
       "2  0.976995  0.976995  0.976995"
      ]
     },
     "execution_count": 4,
     "metadata": {},
     "output_type": "execute_result"
    }
   ],
   "source": [
    "#### Data of EAI with CI\n",
    "data2 = pd.read_excel(os.path.join(path, 'eac_noci_df.xlsx'), index_col = 0)\n",
    "data2 = data2.loc[:,0:2]\n",
    "data2 = data2\n",
    "data2"
   ]
  },
  {
   "cell_type": "code",
   "execution_count": 5,
   "id": "18c80e74-e181-443c-aa44-d54a0c556ea9",
   "metadata": {},
   "outputs": [
    {
     "data": {
      "text/html": [
       "<div>\n",
       "<style scoped>\n",
       "    .dataframe tbody tr th:only-of-type {\n",
       "        vertical-align: middle;\n",
       "    }\n",
       "\n",
       "    .dataframe tbody tr th {\n",
       "        vertical-align: top;\n",
       "    }\n",
       "\n",
       "    .dataframe thead th {\n",
       "        text-align: right;\n",
       "    }\n",
       "</style>\n",
       "<table border=\"1\" class=\"dataframe\">\n",
       "  <thead>\n",
       "    <tr style=\"text-align: right;\">\n",
       "      <th></th>\n",
       "      <th>0</th>\n",
       "      <th>1</th>\n",
       "      <th>2</th>\n",
       "    </tr>\n",
       "  </thead>\n",
       "  <tbody>\n",
       "    <tr>\n",
       "      <th>0</th>\n",
       "      <td>0.783729</td>\n",
       "      <td>0.234652</td>\n",
       "      <td>0.0</td>\n",
       "    </tr>\n",
       "    <tr>\n",
       "      <th>1</th>\n",
       "      <td>0.755700</td>\n",
       "      <td>0.323613</td>\n",
       "      <td>0.0</td>\n",
       "    </tr>\n",
       "    <tr>\n",
       "      <th>2</th>\n",
       "      <td>0.867598</td>\n",
       "      <td>0.425593</td>\n",
       "      <td>0.0</td>\n",
       "    </tr>\n",
       "  </tbody>\n",
       "</table>\n",
       "</div>"
      ],
      "text/plain": [
       "          0         1    2\n",
       "0  0.783729  0.234652  0.0\n",
       "1  0.755700  0.323613  0.0\n",
       "2  0.867598  0.425593  0.0"
      ]
     },
     "execution_count": 5,
     "metadata": {},
     "output_type": "execute_result"
    }
   ],
   "source": [
    "data4 = (data1 - data2)/data1\n",
    "data4"
   ]
  },
  {
   "cell_type": "code",
   "execution_count": 6,
   "id": "e3b66904-2e08-41eb-91cc-03319416506f",
   "metadata": {
    "scrolled": true
   },
   "outputs": [
    {
     "data": {
      "text/html": [
       "<div>\n",
       "<style scoped>\n",
       "    .dataframe tbody tr th:only-of-type {\n",
       "        vertical-align: middle;\n",
       "    }\n",
       "\n",
       "    .dataframe tbody tr th {\n",
       "        vertical-align: top;\n",
       "    }\n",
       "\n",
       "    .dataframe thead th {\n",
       "        text-align: right;\n",
       "    }\n",
       "</style>\n",
       "<table border=\"1\" class=\"dataframe\">\n",
       "  <thead>\n",
       "    <tr style=\"text-align: right;\">\n",
       "      <th></th>\n",
       "      <th>0</th>\n",
       "      <th>1</th>\n",
       "      <th>2</th>\n",
       "    </tr>\n",
       "  </thead>\n",
       "  <tbody>\n",
       "    <tr>\n",
       "      <th>0</th>\n",
       "      <td>4.623820</td>\n",
       "      <td>1.306596</td>\n",
       "      <td>1.0</td>\n",
       "    </tr>\n",
       "    <tr>\n",
       "      <th>1</th>\n",
       "      <td>4.093328</td>\n",
       "      <td>1.478445</td>\n",
       "      <td>1.0</td>\n",
       "    </tr>\n",
       "    <tr>\n",
       "      <th>2</th>\n",
       "      <td>7.552758</td>\n",
       "      <td>1.740925</td>\n",
       "      <td>1.0</td>\n",
       "    </tr>\n",
       "  </tbody>\n",
       "</table>\n",
       "</div>"
      ],
      "text/plain": [
       "          0         1    2\n",
       "0  4.623820  1.306596  1.0\n",
       "1  4.093328  1.478445  1.0\n",
       "2  7.552758  1.740925  1.0"
      ]
     },
     "execution_count": 6,
     "metadata": {},
     "output_type": "execute_result"
    }
   ],
   "source": [
    "data3 = (data1 / data2)\n",
    "data3"
   ]
  },
  {
   "cell_type": "markdown",
   "id": "db198c54-23e0-4c04-adef-b370fbb34a31",
   "metadata": {},
   "source": [
    "#### Fraction of failed substations"
   ]
  },
  {
   "cell_type": "code",
   "execution_count": 7,
   "id": "2cdee6ce-e6a0-41fe-8de8-06dcdc4a5af3",
   "metadata": {},
   "outputs": [],
   "source": [
    "op = [1.0, 1.01, 1.025]\n",
    "tf = [0, 0.25, 1]\n",
    "RP = [10, 100, 1000, 10000]\n",
    "cires = [0,1,2]"
   ]
  },
  {
   "cell_type": "code",
   "execution_count": 8,
   "id": "50eae732-2ac2-4107-a9d8-b01738d7daaf",
   "metadata": {},
   "outputs": [],
   "source": [
    "path_results = os.path.join(path, 'results')"
   ]
  },
  {
   "cell_type": "code",
   "execution_count": 9,
   "id": "10353fd1-c671-4bdb-a3ee-1848cf9fd8b6",
   "metadata": {},
   "outputs": [],
   "source": [
    "damaged_ci = pd.DataFrame(index =  RP, columns = cires)"
   ]
  },
  {
   "cell_type": "code",
   "execution_count": 10,
   "id": "cdf5d1ce-d9ab-4f87-a0a5-3858d41dc4da",
   "metadata": {},
   "outputs": [],
   "source": [
    "for i in range(len(cires)):\n",
    "    for j in range(len(RP)):\n",
    "\n",
    "        opf = op[0]\n",
    "        tff = tf[0]\n",
    "        rp = RP[j]\n",
    "        ci = cires[i]\n",
    "        \n",
    "        ci_total = pd.read_excel(os.path.join(path_results, f'ci_{opf}_{tff}_mosek_{rp}_{ci}.xlsx'), index_col = [0])\n",
    "        ci_failed = ci_total[ci_total['flood_fail'] == 0]\n",
    "        ratio = len(ci_failed)\n",
    "        damaged_ci.loc[rp, ci] = ratio"
   ]
  },
  {
   "cell_type": "code",
   "execution_count": 11,
   "id": "4ec2eecf-5ea9-4b25-8272-9b98820caf59",
   "metadata": {},
   "outputs": [
    {
     "data": {
      "text/html": [
       "<div>\n",
       "<style scoped>\n",
       "    .dataframe tbody tr th:only-of-type {\n",
       "        vertical-align: middle;\n",
       "    }\n",
       "\n",
       "    .dataframe tbody tr th {\n",
       "        vertical-align: top;\n",
       "    }\n",
       "\n",
       "    .dataframe thead th {\n",
       "        text-align: right;\n",
       "    }\n",
       "</style>\n",
       "<table border=\"1\" class=\"dataframe\">\n",
       "  <thead>\n",
       "    <tr style=\"text-align: right;\">\n",
       "      <th></th>\n",
       "      <th>0</th>\n",
       "      <th>1</th>\n",
       "      <th>2</th>\n",
       "    </tr>\n",
       "  </thead>\n",
       "  <tbody>\n",
       "    <tr>\n",
       "      <th>10</th>\n",
       "      <td>0</td>\n",
       "      <td>0</td>\n",
       "      <td>0</td>\n",
       "    </tr>\n",
       "    <tr>\n",
       "      <th>100</th>\n",
       "      <td>1</td>\n",
       "      <td>0</td>\n",
       "      <td>0</td>\n",
       "    </tr>\n",
       "    <tr>\n",
       "      <th>1000</th>\n",
       "      <td>7</td>\n",
       "      <td>2</td>\n",
       "      <td>0</td>\n",
       "    </tr>\n",
       "    <tr>\n",
       "      <th>10000</th>\n",
       "      <td>15</td>\n",
       "      <td>7</td>\n",
       "      <td>0</td>\n",
       "    </tr>\n",
       "  </tbody>\n",
       "</table>\n",
       "</div>"
      ],
      "text/plain": [
       "        0  1  2\n",
       "10      0  0  0\n",
       "100     1  0  0\n",
       "1000    7  2  0\n",
       "10000  15  7  0"
      ]
     },
     "execution_count": 11,
     "metadata": {},
     "output_type": "execute_result"
    }
   ],
   "source": [
    "damaged_ci"
   ]
  },
  {
   "cell_type": "markdown",
   "id": "4d423b17-d751-4258-ad0d-8e64afe1a6a7",
   "metadata": {},
   "source": [
    "#### Fraction of industries without power to the flooded industries"
   ]
  },
  {
   "cell_type": "code",
   "execution_count": 12,
   "id": "37d4829a-d4fb-4a1c-acb1-d757cc599b3d",
   "metadata": {},
   "outputs": [],
   "source": [
    "path_data = os.path.join(os.path.dirname(os.path.dirname(os.getcwd())), 'data')"
   ]
  },
  {
   "cell_type": "code",
   "execution_count": 13,
   "id": "a8caf50e-3b22-478d-b14f-ed408ff87ea2",
   "metadata": {},
   "outputs": [],
   "source": [
    "osmsites = gpd.read_parquet(os.path.join(path_data, 'is_nl33.parquet'))\n",
    "sectors = gpd.read_parquet(os.path.join(path_data, 'industrial.parquet'))"
   ]
  },
  {
   "cell_type": "code",
   "execution_count": 14,
   "id": "ec150b82-df88-4646-8e9e-876e8c9d363f",
   "metadata": {},
   "outputs": [],
   "source": [
    "ind_ratio = pd.DataFrame(index =  RP, columns = cires)\n",
    "fld_ratio = pd.DataFrame(index =  RP, columns = cires)"
   ]
  },
  {
   "cell_type": "code",
   "execution_count": 15,
   "id": "41c5f221-2a82-4a0f-be54-316e5a113972",
   "metadata": {
    "scrolled": true
   },
   "outputs": [
    {
     "name": "stderr",
     "output_type": "stream",
     "text": [
      "C:\\Users\\sva100\\AppData\\Local\\Temp\\ipykernel_9436\\1809345272.py:17: UserWarning: Geometry is in a geographic CRS. Results from 'centroid' are likely incorrect. Use 'GeoSeries.to_crs()' to re-project geometries to a projected CRS before this operation.\n",
      "\n",
      "  sectors_centroids['geometry'] = sectors_centroids.geometry.centroid\n",
      "C:\\Users\\sva100\\AppData\\Local\\Temp\\ipykernel_9436\\1809345272.py:17: UserWarning: Geometry is in a geographic CRS. Results from 'centroid' are likely incorrect. Use 'GeoSeries.to_crs()' to re-project geometries to a projected CRS before this operation.\n",
      "\n",
      "  sectors_centroids['geometry'] = sectors_centroids.geometry.centroid\n",
      "C:\\Users\\sva100\\AppData\\Local\\Temp\\ipykernel_9436\\1809345272.py:17: UserWarning: Geometry is in a geographic CRS. Results from 'centroid' are likely incorrect. Use 'GeoSeries.to_crs()' to re-project geometries to a projected CRS before this operation.\n",
      "\n",
      "  sectors_centroids['geometry'] = sectors_centroids.geometry.centroid\n",
      "C:\\Users\\sva100\\AppData\\Local\\Temp\\ipykernel_9436\\1809345272.py:17: UserWarning: Geometry is in a geographic CRS. Results from 'centroid' are likely incorrect. Use 'GeoSeries.to_crs()' to re-project geometries to a projected CRS before this operation.\n",
      "\n",
      "  sectors_centroids['geometry'] = sectors_centroids.geometry.centroid\n",
      "C:\\Users\\sva100\\AppData\\Local\\Temp\\ipykernel_9436\\1809345272.py:17: UserWarning: Geometry is in a geographic CRS. Results from 'centroid' are likely incorrect. Use 'GeoSeries.to_crs()' to re-project geometries to a projected CRS before this operation.\n",
      "\n",
      "  sectors_centroids['geometry'] = sectors_centroids.geometry.centroid\n",
      "C:\\Users\\sva100\\AppData\\Local\\Temp\\ipykernel_9436\\1809345272.py:17: UserWarning: Geometry is in a geographic CRS. Results from 'centroid' are likely incorrect. Use 'GeoSeries.to_crs()' to re-project geometries to a projected CRS before this operation.\n",
      "\n",
      "  sectors_centroids['geometry'] = sectors_centroids.geometry.centroid\n",
      "C:\\Users\\sva100\\AppData\\Local\\Temp\\ipykernel_9436\\1809345272.py:17: UserWarning: Geometry is in a geographic CRS. Results from 'centroid' are likely incorrect. Use 'GeoSeries.to_crs()' to re-project geometries to a projected CRS before this operation.\n",
      "\n",
      "  sectors_centroids['geometry'] = sectors_centroids.geometry.centroid\n",
      "C:\\Users\\sva100\\AppData\\Local\\Temp\\ipykernel_9436\\1809345272.py:17: UserWarning: Geometry is in a geographic CRS. Results from 'centroid' are likely incorrect. Use 'GeoSeries.to_crs()' to re-project geometries to a projected CRS before this operation.\n",
      "\n",
      "  sectors_centroids['geometry'] = sectors_centroids.geometry.centroid\n",
      "C:\\Users\\sva100\\AppData\\Local\\Temp\\ipykernel_9436\\1809345272.py:17: UserWarning: Geometry is in a geographic CRS. Results from 'centroid' are likely incorrect. Use 'GeoSeries.to_crs()' to re-project geometries to a projected CRS before this operation.\n",
      "\n",
      "  sectors_centroids['geometry'] = sectors_centroids.geometry.centroid\n",
      "C:\\Users\\sva100\\AppData\\Local\\Temp\\ipykernel_9436\\1809345272.py:17: UserWarning: Geometry is in a geographic CRS. Results from 'centroid' are likely incorrect. Use 'GeoSeries.to_crs()' to re-project geometries to a projected CRS before this operation.\n",
      "\n",
      "  sectors_centroids['geometry'] = sectors_centroids.geometry.centroid\n",
      "C:\\Users\\sva100\\AppData\\Local\\Temp\\ipykernel_9436\\1809345272.py:17: UserWarning: Geometry is in a geographic CRS. Results from 'centroid' are likely incorrect. Use 'GeoSeries.to_crs()' to re-project geometries to a projected CRS before this operation.\n",
      "\n",
      "  sectors_centroids['geometry'] = sectors_centroids.geometry.centroid\n",
      "C:\\Users\\sva100\\AppData\\Local\\Temp\\ipykernel_9436\\1809345272.py:17: UserWarning: Geometry is in a geographic CRS. Results from 'centroid' are likely incorrect. Use 'GeoSeries.to_crs()' to re-project geometries to a projected CRS before this operation.\n",
      "\n",
      "  sectors_centroids['geometry'] = sectors_centroids.geometry.centroid\n"
     ]
    }
   ],
   "source": [
    "for i in range(len(cires)):\n",
    "    for j in range(len(RP)):\n",
    "        \n",
    "        opf = op[0]\n",
    "        tff = tf[0]\n",
    "        rp = RP[j]\n",
    "        ci = cires[i]\n",
    "\n",
    "        os_df = pd.read_excel(os.path.join(path_results, f'osm_industrial_{1.01}_{0.25}_mosek_{rp}_{ci}.xlsx'), index_col = [0])\n",
    "        \n",
    "        # Assigning damage to geo dataframe\n",
    "        osmsites['flood_fail'] = os_df['flood_fail']\n",
    "        osmsites['power_fail'] = os_df['power_fail']\n",
    "        \n",
    "        \n",
    "        sectors_centroids = sectors.copy()\n",
    "        sectors_centroids['geometry'] = sectors_centroids.geometry.centroid\n",
    "        \n",
    "        sectors_in_osmsite = gpd.sjoin(\n",
    "        sectors_centroids,\n",
    "        osmsites[['geometry', 'osmid', 'flood_fail', 'power_fail']],\n",
    "        how='inner',\n",
    "        predicate='within'\n",
    "        )\n",
    "        \n",
    "        sectors_in_osmsite = sectors_in_osmsite.reset_index(drop=True)\n",
    "        flooded = sectors_in_osmsite[sectors_in_osmsite['flood_fail'] == 0]\n",
    "        powerf = sectors_in_osmsite[(sectors_in_osmsite['power_fail'] == 0) & (sectors_in_osmsite['flood_fail'] == 1)]\n",
    "        ratio = len(powerf)/ len(sectors_in_osmsite)\n",
    "        ratio1 = len(flooded) / len(sectors_in_osmsite)\n",
    "        ind_ratio.loc[rp,ci] = ratio\n",
    "        fld_ratio.loc[rp,ci] = ratio1"
   ]
  },
  {
   "cell_type": "code",
   "execution_count": 16,
   "id": "17db8e82-5e27-466e-a3fa-d600d3aa76e8",
   "metadata": {},
   "outputs": [
    {
     "data": {
      "text/html": [
       "<div>\n",
       "<style scoped>\n",
       "    .dataframe tbody tr th:only-of-type {\n",
       "        vertical-align: middle;\n",
       "    }\n",
       "\n",
       "    .dataframe tbody tr th {\n",
       "        vertical-align: top;\n",
       "    }\n",
       "\n",
       "    .dataframe thead th {\n",
       "        text-align: right;\n",
       "    }\n",
       "</style>\n",
       "<table border=\"1\" class=\"dataframe\">\n",
       "  <thead>\n",
       "    <tr style=\"text-align: right;\">\n",
       "      <th></th>\n",
       "      <th>0</th>\n",
       "      <th>1</th>\n",
       "      <th>2</th>\n",
       "    </tr>\n",
       "  </thead>\n",
       "  <tbody>\n",
       "    <tr>\n",
       "      <th>10</th>\n",
       "      <td>0.0</td>\n",
       "      <td>0.0</td>\n",
       "      <td>0.0</td>\n",
       "    </tr>\n",
       "    <tr>\n",
       "      <th>100</th>\n",
       "      <td>0.019907</td>\n",
       "      <td>0.0</td>\n",
       "      <td>0.0</td>\n",
       "    </tr>\n",
       "    <tr>\n",
       "      <th>1000</th>\n",
       "      <td>0.0929</td>\n",
       "      <td>0.038487</td>\n",
       "      <td>0.0</td>\n",
       "    </tr>\n",
       "    <tr>\n",
       "      <th>10000</th>\n",
       "      <td>0.198407</td>\n",
       "      <td>0.077638</td>\n",
       "      <td>0.0</td>\n",
       "    </tr>\n",
       "  </tbody>\n",
       "</table>\n",
       "</div>"
      ],
      "text/plain": [
       "              0         1    2\n",
       "10          0.0       0.0  0.0\n",
       "100    0.019907       0.0  0.0\n",
       "1000     0.0929  0.038487  0.0\n",
       "10000  0.198407  0.077638  0.0"
      ]
     },
     "execution_count": 16,
     "metadata": {},
     "output_type": "execute_result"
    }
   ],
   "source": [
    "ind_ratio"
   ]
  },
  {
   "cell_type": "code",
   "execution_count": 17,
   "id": "f3c21b91-db32-4f8b-8172-27af9adf1721",
   "metadata": {},
   "outputs": [],
   "source": [
    "data4.to_excel('eai_ratio.xlsx')\n",
    "ind_ratio.to_excel('ind_ratio.xlsx')\n",
    "damaged_ci.to_excel('damaged_ci.xlsx')\n",
    "fld_ratio.to_excel('fld_ratio.xlsx')"
   ]
  },
  {
   "cell_type": "code",
   "execution_count": null,
   "id": "7d8c4449-c050-4db7-a7dd-1e81c445f18b",
   "metadata": {},
   "outputs": [],
   "source": []
  },
  {
   "cell_type": "code",
   "execution_count": null,
   "id": "11ec4221-9b28-425f-b0f4-aada5e645866",
   "metadata": {},
   "outputs": [],
   "source": []
  }
 ],
 "metadata": {
  "kernelspec": {
   "display_name": "Python 3 (ipykernel)",
   "language": "python",
   "name": "python3"
  },
  "language_info": {
   "codemirror_mode": {
    "name": "ipython",
    "version": 3
   },
   "file_extension": ".py",
   "mimetype": "text/x-python",
   "name": "python",
   "nbconvert_exporter": "python",
   "pygments_lexer": "ipython3",
   "version": "3.12.3"
  }
 },
 "nbformat": 4,
 "nbformat_minor": 5
}
