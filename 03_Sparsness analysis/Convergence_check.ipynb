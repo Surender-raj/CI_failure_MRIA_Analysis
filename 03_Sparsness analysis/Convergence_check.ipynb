{
 "cells": [
  {
   "cell_type": "code",
   "execution_count": 1,
   "id": "83e9e5e8-4dd6-4765-afc2-55c8320f18a5",
   "metadata": {},
   "outputs": [],
   "source": [
    "import pandas as pd\n",
    "import numpy as np\n",
    "import os\n",
    "import matplotlib.pyplot as plt\n",
    "import matplotlib.gridspec as gridspec"
   ]
  },
  {
   "cell_type": "code",
   "execution_count": 2,
   "id": "8a916f5f-ab0e-4288-ab47-f7472a41c204",
   "metadata": {},
   "outputs": [],
   "source": [
    "# Number of sets\n",
    "sets = 8"
   ]
  },
  {
   "cell_type": "code",
   "execution_count": 3,
   "id": "34a408f5-084f-453e-84ac-7296d39dd8b9",
   "metadata": {},
   "outputs": [],
   "source": [
    "path = os.getcwd()"
   ]
  },
  {
   "cell_type": "code",
   "execution_count": 4,
   "id": "4debbe9f-7f94-46c0-8a51-bae71fd8ad53",
   "metadata": {},
   "outputs": [],
   "source": [
    "eac = pd.DataFrame()\n",
    "\n",
    "for i in range(sets):\n",
    "    path_file = os.path.join(path, f'Set{i+1}\\\\src\\\\eac_df_sparseness.xlsx')\n",
    "    eacfile = pd.read_excel(path_file, index_col = [0])\n",
    "    eac = pd.concat([eac, eacfile])"
   ]
  },
  {
   "cell_type": "code",
   "execution_count": 5,
   "id": "51ce9fe4-8ee1-43d0-b202-68d7553dafc8",
   "metadata": {},
   "outputs": [],
   "source": [
    "eac = eac.reset_index(drop = True)"
   ]
  },
  {
   "cell_type": "code",
   "execution_count": 6,
   "id": "7a091ef2-9e93-4624-8538-3662a6f035f6",
   "metadata": {
    "scrolled": true
   },
   "outputs": [
    {
     "data": {
      "text/html": [
       "<div>\n",
       "<style scoped>\n",
       "    .dataframe tbody tr th:only-of-type {\n",
       "        vertical-align: middle;\n",
       "    }\n",
       "\n",
       "    .dataframe tbody tr th {\n",
       "        vertical-align: top;\n",
       "    }\n",
       "\n",
       "    .dataframe thead th {\n",
       "        text-align: right;\n",
       "    }\n",
       "</style>\n",
       "<table border=\"1\" class=\"dataframe\">\n",
       "  <thead>\n",
       "    <tr style=\"text-align: right;\">\n",
       "      <th></th>\n",
       "      <th>0.80</th>\n",
       "      <th>0.60</th>\n",
       "      <th>0.40</th>\n",
       "      <th>0.20</th>\n",
       "      <th>0.01</th>\n",
       "    </tr>\n",
       "  </thead>\n",
       "  <tbody>\n",
       "    <tr>\n",
       "      <th>0</th>\n",
       "      <td>3.753057</td>\n",
       "      <td>5.889952</td>\n",
       "      <td>5.761413</td>\n",
       "      <td>5.451772</td>\n",
       "      <td>11.587235</td>\n",
       "    </tr>\n",
       "    <tr>\n",
       "      <th>1</th>\n",
       "      <td>4.021469</td>\n",
       "      <td>4.013558</td>\n",
       "      <td>4.156020</td>\n",
       "      <td>5.902424</td>\n",
       "      <td>5.123656</td>\n",
       "    </tr>\n",
       "    <tr>\n",
       "      <th>2</th>\n",
       "      <td>5.306106</td>\n",
       "      <td>4.365374</td>\n",
       "      <td>3.892503</td>\n",
       "      <td>5.958926</td>\n",
       "      <td>7.950613</td>\n",
       "    </tr>\n",
       "    <tr>\n",
       "      <th>3</th>\n",
       "      <td>4.226456</td>\n",
       "      <td>4.933437</td>\n",
       "      <td>4.242851</td>\n",
       "      <td>4.737318</td>\n",
       "      <td>6.096158</td>\n",
       "    </tr>\n",
       "    <tr>\n",
       "      <th>4</th>\n",
       "      <td>3.547054</td>\n",
       "      <td>3.520387</td>\n",
       "      <td>6.557902</td>\n",
       "      <td>4.468454</td>\n",
       "      <td>8.104171</td>\n",
       "    </tr>\n",
       "    <tr>\n",
       "      <th>...</th>\n",
       "      <td>...</td>\n",
       "      <td>...</td>\n",
       "      <td>...</td>\n",
       "      <td>...</td>\n",
       "      <td>...</td>\n",
       "    </tr>\n",
       "    <tr>\n",
       "      <th>395</th>\n",
       "      <td>3.398608</td>\n",
       "      <td>2.961866</td>\n",
       "      <td>5.457564</td>\n",
       "      <td>5.842286</td>\n",
       "      <td>3.542174</td>\n",
       "    </tr>\n",
       "    <tr>\n",
       "      <th>396</th>\n",
       "      <td>3.610827</td>\n",
       "      <td>2.884281</td>\n",
       "      <td>4.107760</td>\n",
       "      <td>6.824483</td>\n",
       "      <td>4.749368</td>\n",
       "    </tr>\n",
       "    <tr>\n",
       "      <th>397</th>\n",
       "      <td>4.987721</td>\n",
       "      <td>4.599037</td>\n",
       "      <td>4.915578</td>\n",
       "      <td>4.356315</td>\n",
       "      <td>7.884659</td>\n",
       "    </tr>\n",
       "    <tr>\n",
       "      <th>398</th>\n",
       "      <td>3.364988</td>\n",
       "      <td>4.419403</td>\n",
       "      <td>6.018398</td>\n",
       "      <td>6.504907</td>\n",
       "      <td>5.922948</td>\n",
       "    </tr>\n",
       "    <tr>\n",
       "      <th>399</th>\n",
       "      <td>3.439777</td>\n",
       "      <td>4.230702</td>\n",
       "      <td>8.078751</td>\n",
       "      <td>3.207695</td>\n",
       "      <td>8.532580</td>\n",
       "    </tr>\n",
       "  </tbody>\n",
       "</table>\n",
       "<p>400 rows × 5 columns</p>\n",
       "</div>"
      ],
      "text/plain": [
       "         0.80      0.60      0.40      0.20       0.01\n",
       "0    3.753057  5.889952  5.761413  5.451772  11.587235\n",
       "1    4.021469  4.013558  4.156020  5.902424   5.123656\n",
       "2    5.306106  4.365374  3.892503  5.958926   7.950613\n",
       "3    4.226456  4.933437  4.242851  4.737318   6.096158\n",
       "4    3.547054  3.520387  6.557902  4.468454   8.104171\n",
       "..        ...       ...       ...       ...        ...\n",
       "395  3.398608  2.961866  5.457564  5.842286   3.542174\n",
       "396  3.610827  2.884281  4.107760  6.824483   4.749368\n",
       "397  4.987721  4.599037  4.915578  4.356315   7.884659\n",
       "398  3.364988  4.419403  6.018398  6.504907   5.922948\n",
       "399  3.439777  4.230702  8.078751  3.207695   8.532580\n",
       "\n",
       "[400 rows x 5 columns]"
      ]
     },
     "execution_count": 6,
     "metadata": {},
     "output_type": "execute_result"
    }
   ],
   "source": [
    "eac"
   ]
  },
  {
   "cell_type": "code",
   "execution_count": 7,
   "id": "d39553a3-04c5-4306-a2f9-1c91730ff457",
   "metadata": {},
   "outputs": [],
   "source": [
    "convergence_df = pd.DataFrame(columns = ['nos', 'median'])\n",
    "\n",
    "for i in range(sets):\n",
    "    head_rows = 50*(i+1)\n",
    "    eac_filter = eac.head(head_rows)\n",
    "    median1 = eac_filter[0.01].median()\n",
    "    convergence_df.loc[i, 'nos']    = head_rows\n",
    "    convergence_df.loc[i, 'median'] = median1\n"
   ]
  },
  {
   "cell_type": "code",
   "execution_count": 8,
   "id": "ecfd279a-3cf6-4143-b840-05a17aa4e70d",
   "metadata": {},
   "outputs": [
    {
     "data": {
      "text/html": [
       "<div>\n",
       "<style scoped>\n",
       "    .dataframe tbody tr th:only-of-type {\n",
       "        vertical-align: middle;\n",
       "    }\n",
       "\n",
       "    .dataframe tbody tr th {\n",
       "        vertical-align: top;\n",
       "    }\n",
       "\n",
       "    .dataframe thead th {\n",
       "        text-align: right;\n",
       "    }\n",
       "</style>\n",
       "<table border=\"1\" class=\"dataframe\">\n",
       "  <thead>\n",
       "    <tr style=\"text-align: right;\">\n",
       "      <th></th>\n",
       "      <th>nos</th>\n",
       "      <th>median</th>\n",
       "    </tr>\n",
       "  </thead>\n",
       "  <tbody>\n",
       "    <tr>\n",
       "      <th>0</th>\n",
       "      <td>50</td>\n",
       "      <td>6.293976</td>\n",
       "    </tr>\n",
       "    <tr>\n",
       "      <th>1</th>\n",
       "      <td>100</td>\n",
       "      <td>5.928766</td>\n",
       "    </tr>\n",
       "    <tr>\n",
       "      <th>2</th>\n",
       "      <td>150</td>\n",
       "      <td>6.079775</td>\n",
       "    </tr>\n",
       "    <tr>\n",
       "      <th>3</th>\n",
       "      <td>200</td>\n",
       "      <td>6.200691</td>\n",
       "    </tr>\n",
       "    <tr>\n",
       "      <th>4</th>\n",
       "      <td>250</td>\n",
       "      <td>6.146212</td>\n",
       "    </tr>\n",
       "    <tr>\n",
       "      <th>5</th>\n",
       "      <td>300</td>\n",
       "      <td>6.36259</td>\n",
       "    </tr>\n",
       "    <tr>\n",
       "      <th>6</th>\n",
       "      <td>350</td>\n",
       "      <td>6.48123</td>\n",
       "    </tr>\n",
       "    <tr>\n",
       "      <th>7</th>\n",
       "      <td>400</td>\n",
       "      <td>6.494346</td>\n",
       "    </tr>\n",
       "  </tbody>\n",
       "</table>\n",
       "</div>"
      ],
      "text/plain": [
       "   nos    median\n",
       "0   50  6.293976\n",
       "1  100  5.928766\n",
       "2  150  6.079775\n",
       "3  200  6.200691\n",
       "4  250  6.146212\n",
       "5  300   6.36259\n",
       "6  350   6.48123\n",
       "7  400  6.494346"
      ]
     },
     "execution_count": 8,
     "metadata": {},
     "output_type": "execute_result"
    }
   ],
   "source": [
    "convergence_df"
   ]
  },
  {
   "cell_type": "code",
   "execution_count": 16,
   "id": "0196f7b7-0f93-49f2-95ff-370a2b617d0e",
   "metadata": {},
   "outputs": [
    {
     "data": {
      "image/png": "[encoded data removed]",
      "text/plain": [
       "<Figure size 400x400 with 1 Axes>"
      ]
     },
     "metadata": {},
     "output_type": "display_data"
    }
   ],
   "source": [
    "plt.figure(figsize=(4, 4))\n",
    "df = convergence_df\n",
    "plt.plot(df['nos'], df['median'], color='black', marker='o', linestyle='-', markerfacecolor='red', markeredgecolor='red')\n",
    "plt.xlabel('Number of simulations', fontsize=10, fontname='Calibri')\n",
    "plt.ylabel(r'EAI median (p $\\approx 0$)', fontsize=10, fontname='Calibri')\n",
    "plt.xlim([50,400])\n",
    "plt.ylim([5.5, 7])\n",
    "plt.xticks(fontsize=10, fontname='Calibri')\n",
    "plt.yticks(fontsize=10, fontname='Calibri')\n",
    "plt.yticks(np.arange(5.5, 7.5, 0.5))\n",
    "plt.grid(True)\n",
    "plt.tight_layout()\n",
    "plt.savefig('convergence.png', dpi = 300, bbox_inches = 'tight')\n",
    "plt.show()"
   ]
  },
  {
   "cell_type": "code",
   "execution_count": null,
   "id": "6f0d5e97-0650-477a-ac26-ea69b710dd19",
   "metadata": {},
   "outputs": [],
   "source": []
  }
 ],
 "metadata": {
  "kernelspec": {
   "display_name": "Python 3 (ipykernel)",
   "language": "python",
   "name": "python3"
  },
  "language_info": {
   "codemirror_mode": {
    "name": "ipython",
    "version": 3
   },
   "file_extension": ".py",
   "mimetype": "text/x-python",
   "name": "python",
   "nbconvert_exporter": "python",
   "pygments_lexer": "ipython3",
   "version": "3.12.3"
  }
 },
 "nbformat": 4,
 "nbformat_minor": 5
}
