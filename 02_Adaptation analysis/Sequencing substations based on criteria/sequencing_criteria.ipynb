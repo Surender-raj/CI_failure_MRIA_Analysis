{
 "cells": [
  {
   "cell_type": "code",
   "execution_count": 1,
   "id": "4bdcdde8-9742-4f1b-8c7d-2088f81f875f",
   "metadata": {},
   "outputs": [],
   "source": [
    "import pandas as pd\n",
    "import geopandas as gpd\n",
    "import numpy as np\n",
    "from shapely import wkt\n",
    "import matplotlib.pyplot as plt\n",
    "from shapely.geometry import Polygon, Point\n",
    "from scipy.spatial import Voronoi"
   ]
  },
  {
   "cell_type": "code",
   "execution_count": 2,
   "id": "f2776a44-7f14-42fd-b649-a6bc807d010a",
   "metadata": {},
   "outputs": [],
   "source": [
    "#### Inputs\n",
    "\n",
    "# damage results from Analysis-1\n",
    "dam_results = pd.read_excel('ci_1.01_0.25_mosek_10000_1.xlsx', index_col = [0])"
   ]
  },
  {
   "cell_type": "code",
   "execution_count": 3,
   "id": "fe0d072c-fd36-4725-8d9d-23daa813ff48",
   "metadata": {},
   "outputs": [
    {
     "name": "stdout",
     "output_type": "stream",
     "text": [
      "Total number of substations 42\n",
      "Number of flooded substations 15\n",
      "Number of failed substations 7\n"
     ]
    }
   ],
   "source": [
    "print(f'Total number of substations {len(dam_results)}')\n",
    "print(f'Number of flooded substations {len(dam_results[dam_results['depth'] > 0])}')\n",
    "print(f'Number of failed substations {len(dam_results[dam_results['flood_fail'] == 0])}')"
   ]
  },
  {
   "cell_type": "markdown",
   "id": "a31df84e-2c1d-4ec3-8018-9ebe670dc7be",
   "metadata": {},
   "source": [
    "###### These 7 substations are critical and selected for adaptation. But with limited capital how do we select or priortise the substaions. Example: The infrastructrue owner has only funds to fix two substations which ones should be them."
   ]
  },
  {
   "cell_type": "code",
   "execution_count": 4,
   "id": "783c6909-feb2-468e-9806-1945dee39456",
   "metadata": {},
   "outputs": [],
   "source": [
    "failed_ss = dam_results[dam_results['flood_fail'] == 0]\n",
    "failed_ss = failed_ss.reset_index(drop = True)"
   ]
  },
  {
   "cell_type": "code",
   "execution_count": 5,
   "id": "2ed8235b-7a67-4fab-ba14-ecb3afe06f36",
   "metadata": {},
   "outputs": [],
   "source": [
    "# an empty df to store the sequences\n",
    "sequence_df = pd.DataFrame(index = np.arange(0, len(failed_ss), 1))"
   ]
  },
  {
   "cell_type": "markdown",
   "id": "cd065047-e128-405d-90d0-945ef18935da",
   "metadata": {},
   "source": [
    "# Strategy 1: Fix the substation that is severly flooded first"
   ]
  },
  {
   "cell_type": "code",
   "execution_count": 6,
   "id": "3433f8cb-2c69-4fc9-86fa-70ad094e06cd",
   "metadata": {},
   "outputs": [],
   "source": [
    "def mergeing_gdf(failed_ss):\n",
    "    stat1 = failed_ss\n",
    "    ss_nl = gpd.read_parquet('substaions_nl33.parquet')\n",
    "    stat1 = stat1.drop(columns = ['geometry', 'voltage_kv'])\n",
    "    merged_gdf = stat1.merge(ss_nl, on='osmid', how='inner')\n",
    "    merged_gdff = gpd.GeoDataFrame(merged_gdf, geometry='geometry')\n",
    "    return merged_gdff"
   ]
  },
  {
   "cell_type": "code",
   "execution_count": 7,
   "id": "218e8d14-9fb0-446d-95a2-d616f9129c2a",
   "metadata": {},
   "outputs": [],
   "source": [
    "gdf_depth = mergeing_gdf(failed_ss) \n",
    "gdf_depth = gdf_depth.sort_values(by=['depth'], ascending= False)\n",
    "gdf_depth = gdf_depth.reset_index(drop = True)"
   ]
  },
  {
   "cell_type": "code",
   "execution_count": 8,
   "id": "2550c89c-e53f-4c2a-b3ef-140a71bab0fa",
   "metadata": {
    "scrolled": true
   },
   "outputs": [
    {
     "data": {
      "text/html": [
       "<div>\n",
       "<style scoped>\n",
       "    .dataframe tbody tr th:only-of-type {\n",
       "        vertical-align: middle;\n",
       "    }\n",
       "\n",
       "    .dataframe tbody tr th {\n",
       "        vertical-align: top;\n",
       "    }\n",
       "\n",
       "    .dataframe thead th {\n",
       "        text-align: right;\n",
       "    }\n",
       "</style>\n",
       "<table border=\"1\" class=\"dataframe\">\n",
       "  <thead>\n",
       "    <tr style=\"text-align: right;\">\n",
       "      <th></th>\n",
       "      <th>osmid</th>\n",
       "      <th>depth</th>\n",
       "      <th>flood_fail</th>\n",
       "      <th>voltage_kv</th>\n",
       "      <th>geometry</th>\n",
       "    </tr>\n",
       "  </thead>\n",
       "  <tbody>\n",
       "    <tr>\n",
       "      <th>0</th>\n",
       "      <td>165250724</td>\n",
       "      <td>3.5617</td>\n",
       "      <td>0</td>\n",
       "      <td>23.0</td>\n",
       "      <td>POLYGON ((4.52995 51.95506, 4.529 51.95491, 4....</td>\n",
       "    </tr>\n",
       "    <tr>\n",
       "      <th>1</th>\n",
       "      <td>165242801</td>\n",
       "      <td>3.1665</td>\n",
       "      <td>0</td>\n",
       "      <td>50.0</td>\n",
       "      <td>POLYGON ((4.62897 51.91306, 4.6289 51.913, 4.6...</td>\n",
       "    </tr>\n",
       "    <tr>\n",
       "      <th>2</th>\n",
       "      <td>171267263</td>\n",
       "      <td>2.4107</td>\n",
       "      <td>0</td>\n",
       "      <td>50.0</td>\n",
       "      <td>POLYGON ((4.14748 51.89278, 4.14776 51.89217, ...</td>\n",
       "    </tr>\n",
       "    <tr>\n",
       "      <th>3</th>\n",
       "      <td>198335271</td>\n",
       "      <td>2.0060</td>\n",
       "      <td>0</td>\n",
       "      <td>23.0</td>\n",
       "      <td>POLYGON ((4.36261 51.87452, 4.36249 51.8745, 4...</td>\n",
       "    </tr>\n",
       "    <tr>\n",
       "      <th>4</th>\n",
       "      <td>72888152</td>\n",
       "      <td>1.7750</td>\n",
       "      <td>0</td>\n",
       "      <td>150.0</td>\n",
       "      <td>POLYGON ((4.52803 52.03733, 4.53238 52.03657, ...</td>\n",
       "    </tr>\n",
       "    <tr>\n",
       "      <th>5</th>\n",
       "      <td>23135620</td>\n",
       "      <td>1.6894</td>\n",
       "      <td>0</td>\n",
       "      <td>50.0</td>\n",
       "      <td>POLYGON ((4.2026 51.7474, 4.20405 51.7465, 4.2...</td>\n",
       "    </tr>\n",
       "    <tr>\n",
       "      <th>6</th>\n",
       "      <td>1266908852</td>\n",
       "      <td>1.4831</td>\n",
       "      <td>0</td>\n",
       "      <td>10.0</td>\n",
       "      <td>POLYGON ((4.50367 51.87817, 4.50426 51.87779, ...</td>\n",
       "    </tr>\n",
       "  </tbody>\n",
       "</table>\n",
       "</div>"
      ],
      "text/plain": [
       "        osmid   depth  flood_fail  voltage_kv  \\\n",
       "0   165250724  3.5617           0        23.0   \n",
       "1   165242801  3.1665           0        50.0   \n",
       "2   171267263  2.4107           0        50.0   \n",
       "3   198335271  2.0060           0        23.0   \n",
       "4    72888152  1.7750           0       150.0   \n",
       "5    23135620  1.6894           0        50.0   \n",
       "6  1266908852  1.4831           0        10.0   \n",
       "\n",
       "                                            geometry  \n",
       "0  POLYGON ((4.52995 51.95506, 4.529 51.95491, 4....  \n",
       "1  POLYGON ((4.62897 51.91306, 4.6289 51.913, 4.6...  \n",
       "2  POLYGON ((4.14748 51.89278, 4.14776 51.89217, ...  \n",
       "3  POLYGON ((4.36261 51.87452, 4.36249 51.8745, 4...  \n",
       "4  POLYGON ((4.52803 52.03733, 4.53238 52.03657, ...  \n",
       "5  POLYGON ((4.2026 51.7474, 4.20405 51.7465, 4.2...  \n",
       "6  POLYGON ((4.50367 51.87817, 4.50426 51.87779, ...  "
      ]
     },
     "execution_count": 8,
     "metadata": {},
     "output_type": "execute_result"
    }
   ],
   "source": [
    "gdf_depth"
   ]
  },
  {
   "cell_type": "code",
   "execution_count": 9,
   "id": "838c491a-ad4e-4af3-bc48-886f46c3e4c3",
   "metadata": {},
   "outputs": [],
   "source": [
    "sequence_df['depth'] = gdf_depth['osmid']"
   ]
  },
  {
   "cell_type": "markdown",
   "id": "e8df1cca-b7b6-48db-9416-61fa39520630",
   "metadata": {},
   "source": [
    "# Strategy 2: Fix the substations that has more proximity to the industrial areas - sector non specific"
   ]
  },
  {
   "cell_type": "code",
   "execution_count": 10,
   "id": "4a711d76-86fc-4bb3-928f-801b348784b8",
   "metadata": {},
   "outputs": [],
   "source": [
    "def poly_to_pt(gdf):\n",
    "    \n",
    "    gdf['centroid'] = gdf.geometry.centroid\n",
    "    gdf = gdf.drop(columns='geometry')\n",
    "    gdf = gdf.rename(columns={'centroid': 'geometry'})\n",
    "    gdf = gdf.set_geometry('geometry')\n",
    "    return gdf"
   ]
  },
  {
   "cell_type": "code",
   "execution_count": 11,
   "id": "2f942a21-c39e-4d05-bc0f-e99480349f23",
   "metadata": {},
   "outputs": [],
   "source": [
    "def filter_poly(gdf_polygons, gdf_points):\n",
    "    join = gpd.sjoin(gdf_polygons, gdf_points, predicate='contains')\n",
    "    gdf_polygons_filtered = gdf_polygons.loc[gdf_polygons.index.isin(join.index)]\n",
    "    gdf_polygons_filtered = gdf_polygons_filtered.reset_index(drop = True)\n",
    "    return gdf_polygons_filtered "
   ]
  },
  {
   "cell_type": "code",
   "execution_count": 12,
   "id": "27799480-488f-46ec-b047-06af32b75ffd",
   "metadata": {},
   "outputs": [],
   "source": [
    "def nearest_ss(gdf_industries , gdf_substations):\n",
    "    gdf_industries = gdf_industries.to_crs(gdf_substations.crs)\n",
    "    gdf_joined = gpd.sjoin_nearest(gdf_industries, gdf_substations[['osmidss', 'geometry']], how=\"left\", distance_col=\"distance_to_ss\")\n",
    "    return gdf_joined"
   ]
  },
  {
   "cell_type": "code",
   "execution_count": 13,
   "id": "73452591-654e-43f5-a83a-d8d8b0b1dca1",
   "metadata": {
    "scrolled": true
   },
   "outputs": [
    {
     "name": "stderr",
     "output_type": "stream",
     "text": [
      "C:\\Users\\sva100\\AppData\\Local\\Temp\\ipykernel_35688\\699070099.py:3: UserWarning: Geometry is in a geographic CRS. Results from 'centroid' are likely incorrect. Use 'GeoSeries.to_crs()' to re-project geometries to a projected CRS before this operation.\n",
      "\n",
      "  gdf['centroid'] = gdf.geometry.centroid\n"
     ]
    }
   ],
   "source": [
    "# Industrial sites from OSM\n",
    "ind_nl33 = gpd.read_parquet('is_nl33.parquet')\n",
    "\n",
    "#### Fetched results from places API\n",
    "industrial = gpd.read_parquet('industrial.parquet')\n",
    "\n",
    "# SUbstations in NL33\n",
    "ss_nl33 = gpd.read_parquet('substaions_nl33.parquet')\n",
    "ss_nl33 = poly_to_pt(ss_nl33)\n",
    "ss_nl33 = ss_nl33.rename(columns = {'osmid': 'osmidss'})"
   ]
  },
  {
   "cell_type": "code",
   "execution_count": 14,
   "id": "630143b0-bfe2-4ee9-915d-45fc9e5b88c7",
   "metadata": {},
   "outputs": [
    {
     "name": "stderr",
     "output_type": "stream",
     "text": [
      "C:\\Users\\sva100\\AppData\\Local\\Temp\\ipykernel_35688\\699070099.py:3: UserWarning: Geometry is in a geographic CRS. Results from 'centroid' are likely incorrect. Use 'GeoSeries.to_crs()' to re-project geometries to a projected CRS before this operation.\n",
      "\n",
      "  gdf['centroid'] = gdf.geometry.centroid\n",
      "C:\\Users\\sva100\\AppData\\Local\\miniforge3\\envs\\mria\\Lib\\site-packages\\geopandas\\array.py:403: UserWarning: Geometry is in a geographic CRS. Results from 'sjoin_nearest' are likely incorrect. Use 'GeoSeries.to_crs()' to re-project geometries to a projected CRS before this operation.\n",
      "\n",
      "  warnings.warn(\n",
      "C:\\Users\\sva100\\AppData\\Local\\Temp\\ipykernel_35688\\1004379700.py:7: UserWarning: Geometry is in a geographic CRS. Results from 'area' are likely incorrect. Use 'GeoSeries.to_crs()' to re-project geometries to a projected CRS before this operation.\n",
      "\n",
      "  ind_nl33_filt['area'] = ind_nl33_filt.geometry.area\n",
      "C:\\Users\\sva100\\AppData\\Local\\Temp\\ipykernel_35688\\699070099.py:3: UserWarning: Geometry is in a geographic CRS. Results from 'centroid' are likely incorrect. Use 'GeoSeries.to_crs()' to re-project geometries to a projected CRS before this operation.\n",
      "\n",
      "  gdf['centroid'] = gdf.geometry.centroid\n"
     ]
    }
   ],
   "source": [
    "industrial = poly_to_pt(industrial)\n",
    "ind_nl33_filt  = filter_poly(ind_nl33, industrial)  #Filtering the osm sites that are hosting the fetched indutries only\n",
    "\n",
    "# Finding the nearest substation to the industrial sites\n",
    "ind_nl33_filt = nearest_ss(ind_nl33_filt , ss_nl33)\n",
    "\n",
    "ind_nl33_filt['area'] = ind_nl33_filt.geometry.area\n",
    "gdf_ssind = poly_to_pt(gdf_depth)\n",
    "\n",
    "for i in range(len(gdf_ssind)):\n",
    "    osmid_ss = gdf_ssind.loc[i, 'osmid']\n",
    "    ind_df1 = ind_nl33_filt[ind_nl33_filt['osmidss'] == osmid_ss]\n",
    "    gdf_ssind.loc[i, 'area_ind'] = ind_df1['area'].sum()\n",
    "\n",
    "gdf_ssind = gdf_ssind.sort_values(by = 'area_ind', ascending = False)\n",
    "gdf_ssind = gdf_ssind.reset_index(drop = True)\n",
    "sequence_df['area_ind'] = gdf_ssind['osmid']"
   ]
  },
  {
   "cell_type": "markdown",
   "id": "38298c63-fe45-4f8e-b657-c64260decbb0",
   "metadata": {},
   "source": [
    "# Strategy 3: Fix the substations that has more proximity to the industrial areas - serving C19 and C20 sectors"
   ]
  },
  {
   "cell_type": "code",
   "execution_count": 15,
   "id": "4e511a67-53ac-4eff-9c61-d198ab2a40e9",
   "metadata": {},
   "outputs": [],
   "source": [
    "industrial_sector = industrial[industrial['Sector_id'].isin(['C19', 'C20'])]"
   ]
  },
  {
   "cell_type": "code",
   "execution_count": 16,
   "id": "b5cdd416-c31d-41a6-b72b-86214dbbd380",
   "metadata": {},
   "outputs": [],
   "source": [
    "industrial_sector = industrial_sector.reset_index(drop = True)"
   ]
  },
  {
   "cell_type": "code",
   "execution_count": 17,
   "id": "8ae49302-47e3-4b94-9e8c-6a60fdd8879b",
   "metadata": {},
   "outputs": [
    {
     "name": "stderr",
     "output_type": "stream",
     "text": [
      "C:\\Users\\sva100\\AppData\\Local\\Temp\\ipykernel_35688\\699070099.py:3: UserWarning: Geometry is in a geographic CRS. Results from 'centroid' are likely incorrect. Use 'GeoSeries.to_crs()' to re-project geometries to a projected CRS before this operation.\n",
      "\n",
      "  gdf['centroid'] = gdf.geometry.centroid\n"
     ]
    }
   ],
   "source": [
    "industrial_sector = poly_to_pt(industrial_sector)\n",
    "ind_nl33_filt_sector  = filter_poly(ind_nl33, industrial_sector)  #Filtering the osm sites that are hosting only C19 and C20 industries\n"
   ]
  },
  {
   "cell_type": "code",
   "execution_count": 18,
   "id": "b769b36a-0de4-440f-96cf-8e6f0b028794",
   "metadata": {},
   "outputs": [
    {
     "name": "stderr",
     "output_type": "stream",
     "text": [
      "C:\\Users\\sva100\\AppData\\Local\\miniforge3\\envs\\mria\\Lib\\site-packages\\geopandas\\array.py:403: UserWarning: Geometry is in a geographic CRS. Results from 'sjoin_nearest' are likely incorrect. Use 'GeoSeries.to_crs()' to re-project geometries to a projected CRS before this operation.\n",
      "\n",
      "  warnings.warn(\n"
     ]
    }
   ],
   "source": [
    "# Finding the nearest substation to the industrial sites\n",
    "ind_nl33_filt_sector = nearest_ss(ind_nl33_filt_sector , ss_nl33)"
   ]
  },
  {
   "cell_type": "code",
   "execution_count": 19,
   "id": "370cec7d-6c56-4508-be17-4575808adbe7",
   "metadata": {},
   "outputs": [
    {
     "name": "stderr",
     "output_type": "stream",
     "text": [
      "C:\\Users\\sva100\\AppData\\Local\\Temp\\ipykernel_35688\\3891634995.py:1: UserWarning: Geometry is in a geographic CRS. Results from 'area' are likely incorrect. Use 'GeoSeries.to_crs()' to re-project geometries to a projected CRS before this operation.\n",
      "\n",
      "  ind_nl33_filt_sector['area'] = ind_nl33_filt_sector.geometry.area\n",
      "C:\\Users\\sva100\\AppData\\Local\\Temp\\ipykernel_35688\\699070099.py:3: UserWarning: Geometry is in a geographic CRS. Results from 'centroid' are likely incorrect. Use 'GeoSeries.to_crs()' to re-project geometries to a projected CRS before this operation.\n",
      "\n",
      "  gdf['centroid'] = gdf.geometry.centroid\n"
     ]
    }
   ],
   "source": [
    "ind_nl33_filt_sector['area'] = ind_nl33_filt_sector.geometry.area\n",
    "gdf_sector = poly_to_pt(gdf_depth)"
   ]
  },
  {
   "cell_type": "code",
   "execution_count": 20,
   "id": "a8f19020-1749-4268-82bc-fbfeb168a9e7",
   "metadata": {},
   "outputs": [],
   "source": [
    "for i in range(len(gdf_sector)):\n",
    "    osmid_ss = gdf_sector.loc[i, 'osmid']\n",
    "    ind_df1 = ind_nl33_filt_sector[ind_nl33_filt_sector['osmidss'] == osmid_ss]\n",
    "    gdf_sector.loc[i, 'area_sector'] = ind_df1['area'].sum()\n",
    "\n",
    "\n",
    "gdf_sector = gdf_sector.sort_values(by = 'area_sector', ascending = False)\n",
    "gdf_sector = gdf_sector.reset_index(drop = True)"
   ]
  },
  {
   "cell_type": "code",
   "execution_count": 25,
   "id": "3e9a9cf6-3187-4cb2-b6c4-837da29d8298",
   "metadata": {},
   "outputs": [
    {
     "data": {
      "text/html": [
       "<div>\n",
       "<style scoped>\n",
       "    .dataframe tbody tr th:only-of-type {\n",
       "        vertical-align: middle;\n",
       "    }\n",
       "\n",
       "    .dataframe tbody tr th {\n",
       "        vertical-align: top;\n",
       "    }\n",
       "\n",
       "    .dataframe thead th {\n",
       "        text-align: right;\n",
       "    }\n",
       "</style>\n",
       "<table border=\"1\" class=\"dataframe\">\n",
       "  <thead>\n",
       "    <tr style=\"text-align: right;\">\n",
       "      <th></th>\n",
       "      <th>osmid</th>\n",
       "      <th>depth</th>\n",
       "      <th>flood_fail</th>\n",
       "      <th>voltage_kv</th>\n",
       "      <th>geometry</th>\n",
       "      <th>area_ind</th>\n",
       "    </tr>\n",
       "  </thead>\n",
       "  <tbody>\n",
       "    <tr>\n",
       "      <th>0</th>\n",
       "      <td>1266908852</td>\n",
       "      <td>1.4831</td>\n",
       "      <td>0</td>\n",
       "      <td>10.0</td>\n",
       "      <td>POINT (4.50367 51.87781)</td>\n",
       "      <td>0.000575</td>\n",
       "    </tr>\n",
       "    <tr>\n",
       "      <th>1</th>\n",
       "      <td>72888152</td>\n",
       "      <td>1.7750</td>\n",
       "      <td>0</td>\n",
       "      <td>150.0</td>\n",
       "      <td>POINT (4.53038 52.03622)</td>\n",
       "      <td>0.000399</td>\n",
       "    </tr>\n",
       "    <tr>\n",
       "      <th>2</th>\n",
       "      <td>198335271</td>\n",
       "      <td>2.0060</td>\n",
       "      <td>0</td>\n",
       "      <td>23.0</td>\n",
       "      <td>POINT (4.36232 51.8748)</td>\n",
       "      <td>0.000322</td>\n",
       "    </tr>\n",
       "    <tr>\n",
       "      <th>3</th>\n",
       "      <td>165250724</td>\n",
       "      <td>3.5617</td>\n",
       "      <td>0</td>\n",
       "      <td>23.0</td>\n",
       "      <td>POINT (4.5294 51.95532)</td>\n",
       "      <td>0.000315</td>\n",
       "    </tr>\n",
       "    <tr>\n",
       "      <th>4</th>\n",
       "      <td>165242801</td>\n",
       "      <td>3.1665</td>\n",
       "      <td>0</td>\n",
       "      <td>50.0</td>\n",
       "      <td>POINT (4.62862 51.91244)</td>\n",
       "      <td>0.000312</td>\n",
       "    </tr>\n",
       "    <tr>\n",
       "      <th>5</th>\n",
       "      <td>171267263</td>\n",
       "      <td>2.4107</td>\n",
       "      <td>0</td>\n",
       "      <td>50.0</td>\n",
       "      <td>POINT (4.14736 51.89242)</td>\n",
       "      <td>0.000209</td>\n",
       "    </tr>\n",
       "    <tr>\n",
       "      <th>6</th>\n",
       "      <td>23135620</td>\n",
       "      <td>1.6894</td>\n",
       "      <td>0</td>\n",
       "      <td>50.0</td>\n",
       "      <td>POINT (4.20293 51.74671)</td>\n",
       "      <td>0.000091</td>\n",
       "    </tr>\n",
       "  </tbody>\n",
       "</table>\n",
       "</div>"
      ],
      "text/plain": [
       "        osmid   depth  flood_fail  voltage_kv                  geometry  \\\n",
       "0  1266908852  1.4831           0        10.0  POINT (4.50367 51.87781)   \n",
       "1    72888152  1.7750           0       150.0  POINT (4.53038 52.03622)   \n",
       "2   198335271  2.0060           0        23.0   POINT (4.36232 51.8748)   \n",
       "3   165250724  3.5617           0        23.0   POINT (4.5294 51.95532)   \n",
       "4   165242801  3.1665           0        50.0  POINT (4.62862 51.91244)   \n",
       "5   171267263  2.4107           0        50.0  POINT (4.14736 51.89242)   \n",
       "6    23135620  1.6894           0        50.0  POINT (4.20293 51.74671)   \n",
       "\n",
       "   area_ind  \n",
       "0  0.000575  \n",
       "1  0.000399  \n",
       "2  0.000322  \n",
       "3  0.000315  \n",
       "4  0.000312  \n",
       "5  0.000209  \n",
       "6  0.000091  "
      ]
     },
     "execution_count": 25,
     "metadata": {},
     "output_type": "execute_result"
    }
   ],
   "source": [
    "gdf_ssind"
   ]
  },
  {
   "cell_type": "code",
   "execution_count": 24,
   "id": "3f838f3b-e901-421e-aa14-ff156e1edbb5",
   "metadata": {},
   "outputs": [
    {
     "data": {
      "text/html": [
       "<div>\n",
       "<style scoped>\n",
       "    .dataframe tbody tr th:only-of-type {\n",
       "        vertical-align: middle;\n",
       "    }\n",
       "\n",
       "    .dataframe tbody tr th {\n",
       "        vertical-align: top;\n",
       "    }\n",
       "\n",
       "    .dataframe thead th {\n",
       "        text-align: right;\n",
       "    }\n",
       "</style>\n",
       "<table border=\"1\" class=\"dataframe\">\n",
       "  <thead>\n",
       "    <tr style=\"text-align: right;\">\n",
       "      <th></th>\n",
       "      <th>osmid</th>\n",
       "      <th>depth</th>\n",
       "      <th>flood_fail</th>\n",
       "      <th>voltage_kv</th>\n",
       "      <th>geometry</th>\n",
       "      <th>area_sector</th>\n",
       "    </tr>\n",
       "  </thead>\n",
       "  <tbody>\n",
       "    <tr>\n",
       "      <th>0</th>\n",
       "      <td>198335271</td>\n",
       "      <td>2.0060</td>\n",
       "      <td>0</td>\n",
       "      <td>23.0</td>\n",
       "      <td>POINT (4.36232 51.8748)</td>\n",
       "      <td>0.000295</td>\n",
       "    </tr>\n",
       "    <tr>\n",
       "      <th>1</th>\n",
       "      <td>1266908852</td>\n",
       "      <td>1.4831</td>\n",
       "      <td>0</td>\n",
       "      <td>10.0</td>\n",
       "      <td>POINT (4.50367 51.87781)</td>\n",
       "      <td>0.000276</td>\n",
       "    </tr>\n",
       "    <tr>\n",
       "      <th>2</th>\n",
       "      <td>165250724</td>\n",
       "      <td>3.5617</td>\n",
       "      <td>0</td>\n",
       "      <td>23.0</td>\n",
       "      <td>POINT (4.5294 51.95532)</td>\n",
       "      <td>0.000127</td>\n",
       "    </tr>\n",
       "    <tr>\n",
       "      <th>3</th>\n",
       "      <td>165242801</td>\n",
       "      <td>3.1665</td>\n",
       "      <td>0</td>\n",
       "      <td>50.0</td>\n",
       "      <td>POINT (4.62862 51.91244)</td>\n",
       "      <td>0.000116</td>\n",
       "    </tr>\n",
       "    <tr>\n",
       "      <th>4</th>\n",
       "      <td>171267263</td>\n",
       "      <td>2.4107</td>\n",
       "      <td>0</td>\n",
       "      <td>50.0</td>\n",
       "      <td>POINT (4.14736 51.89242)</td>\n",
       "      <td>0.000040</td>\n",
       "    </tr>\n",
       "    <tr>\n",
       "      <th>5</th>\n",
       "      <td>23135620</td>\n",
       "      <td>1.6894</td>\n",
       "      <td>0</td>\n",
       "      <td>50.0</td>\n",
       "      <td>POINT (4.20293 51.74671)</td>\n",
       "      <td>0.000027</td>\n",
       "    </tr>\n",
       "    <tr>\n",
       "      <th>6</th>\n",
       "      <td>72888152</td>\n",
       "      <td>1.7750</td>\n",
       "      <td>0</td>\n",
       "      <td>150.0</td>\n",
       "      <td>POINT (4.53038 52.03622)</td>\n",
       "      <td>0.000005</td>\n",
       "    </tr>\n",
       "  </tbody>\n",
       "</table>\n",
       "</div>"
      ],
      "text/plain": [
       "        osmid   depth  flood_fail  voltage_kv                  geometry  \\\n",
       "0   198335271  2.0060           0        23.0   POINT (4.36232 51.8748)   \n",
       "1  1266908852  1.4831           0        10.0  POINT (4.50367 51.87781)   \n",
       "2   165250724  3.5617           0        23.0   POINT (4.5294 51.95532)   \n",
       "3   165242801  3.1665           0        50.0  POINT (4.62862 51.91244)   \n",
       "4   171267263  2.4107           0        50.0  POINT (4.14736 51.89242)   \n",
       "5    23135620  1.6894           0        50.0  POINT (4.20293 51.74671)   \n",
       "6    72888152  1.7750           0       150.0  POINT (4.53038 52.03622)   \n",
       "\n",
       "   area_sector  \n",
       "0     0.000295  \n",
       "1     0.000276  \n",
       "2     0.000127  \n",
       "3     0.000116  \n",
       "4     0.000040  \n",
       "5     0.000027  \n",
       "6     0.000005  "
      ]
     },
     "execution_count": 24,
     "metadata": {},
     "output_type": "execute_result"
    }
   ],
   "source": [
    "gdf_sector"
   ]
  },
  {
   "cell_type": "code",
   "execution_count": 21,
   "id": "9357b33f-4c49-42ec-be27-81e6789591ff",
   "metadata": {},
   "outputs": [],
   "source": [
    "sequence_df['area_sector'] = gdf_sector['osmid']"
   ]
  },
  {
   "cell_type": "code",
   "execution_count": 22,
   "id": "8cbcabfe-9fb4-4e74-a46c-e48bb93c9856",
   "metadata": {},
   "outputs": [
    {
     "data": {
      "text/html": [
       "<div>\n",
       "<style scoped>\n",
       "    .dataframe tbody tr th:only-of-type {\n",
       "        vertical-align: middle;\n",
       "    }\n",
       "\n",
       "    .dataframe tbody tr th {\n",
       "        vertical-align: top;\n",
       "    }\n",
       "\n",
       "    .dataframe thead th {\n",
       "        text-align: right;\n",
       "    }\n",
       "</style>\n",
       "<table border=\"1\" class=\"dataframe\">\n",
       "  <thead>\n",
       "    <tr style=\"text-align: right;\">\n",
       "      <th></th>\n",
       "      <th>depth</th>\n",
       "      <th>area_ind</th>\n",
       "      <th>area_sector</th>\n",
       "    </tr>\n",
       "  </thead>\n",
       "  <tbody>\n",
       "    <tr>\n",
       "      <th>0</th>\n",
       "      <td>165250724</td>\n",
       "      <td>1266908852</td>\n",
       "      <td>198335271</td>\n",
       "    </tr>\n",
       "    <tr>\n",
       "      <th>1</th>\n",
       "      <td>165242801</td>\n",
       "      <td>72888152</td>\n",
       "      <td>1266908852</td>\n",
       "    </tr>\n",
       "    <tr>\n",
       "      <th>2</th>\n",
       "      <td>171267263</td>\n",
       "      <td>198335271</td>\n",
       "      <td>165250724</td>\n",
       "    </tr>\n",
       "    <tr>\n",
       "      <th>3</th>\n",
       "      <td>198335271</td>\n",
       "      <td>165250724</td>\n",
       "      <td>165242801</td>\n",
       "    </tr>\n",
       "    <tr>\n",
       "      <th>4</th>\n",
       "      <td>72888152</td>\n",
       "      <td>165242801</td>\n",
       "      <td>171267263</td>\n",
       "    </tr>\n",
       "    <tr>\n",
       "      <th>5</th>\n",
       "      <td>23135620</td>\n",
       "      <td>171267263</td>\n",
       "      <td>23135620</td>\n",
       "    </tr>\n",
       "    <tr>\n",
       "      <th>6</th>\n",
       "      <td>1266908852</td>\n",
       "      <td>23135620</td>\n",
       "      <td>72888152</td>\n",
       "    </tr>\n",
       "  </tbody>\n",
       "</table>\n",
       "</div>"
      ],
      "text/plain": [
       "        depth    area_ind  area_sector\n",
       "0   165250724  1266908852    198335271\n",
       "1   165242801    72888152   1266908852\n",
       "2   171267263   198335271    165250724\n",
       "3   198335271   165250724    165242801\n",
       "4    72888152   165242801    171267263\n",
       "5    23135620   171267263     23135620\n",
       "6  1266908852    23135620     72888152"
      ]
     },
     "execution_count": 22,
     "metadata": {},
     "output_type": "execute_result"
    }
   ],
   "source": [
    "sequence_df"
   ]
  },
  {
   "cell_type": "code",
   "execution_count": 23,
   "id": "d775c091-6f62-4da4-bc41-8ba725bdeefe",
   "metadata": {},
   "outputs": [],
   "source": [
    "sequence_df.to_parquet('sequence.parquet')"
   ]
  }
 ],
 "metadata": {
  "kernelspec": {
   "display_name": "Python 3 (ipykernel)",
   "language": "python",
   "name": "python3"
  },
  "language_info": {
   "codemirror_mode": {
    "name": "ipython",
    "version": 3
   },
   "file_extension": ".py",
   "mimetype": "text/x-python",
   "name": "python",
   "nbconvert_exporter": "python",
   "pygments_lexer": "ipython3",
   "version": "3.12.3"
  }
 },
 "nbformat": 4,
 "nbformat_minor": 5
}
