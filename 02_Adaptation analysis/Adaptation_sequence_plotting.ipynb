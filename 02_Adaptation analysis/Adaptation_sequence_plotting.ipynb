{
 "cells": [
  {
   "cell_type": "code",
   "execution_count": 1,
   "id": "d3b75e83-fe6c-46d2-83dc-c5988562a0ad",
   "metadata": {},
   "outputs": [],
   "source": [
    "import pandas as pd\n",
    "import numpy as np\n",
    "import matplotlib.pyplot as plt\n",
    "import os\n",
    "from matplotlib.gridspec import GridSpec\n",
    "import matplotlib as mpl\n",
    "import matplotlib.patches as mpatches"
   ]
  },
  {
   "cell_type": "code",
   "execution_count": 2,
   "id": "6be9aef4-db1d-4c8c-a016-527c804d8cbc",
   "metadata": {},
   "outputs": [],
   "source": [
    "cwd = os.getcwd()"
   ]
  },
  {
   "cell_type": "code",
   "execution_count": 3,
   "id": "d1fe253c-4fd6-49ab-bc0e-238e87b842f3",
   "metadata": {},
   "outputs": [],
   "source": [
    "seq_path = os.path.join(cwd,'Sequence/src')"
   ]
  },
  {
   "cell_type": "markdown",
   "id": "5dba0574-7cc2-41cd-9c3f-cf34e1653781",
   "metadata": {},
   "source": [
    "#### Step 1: Calculating the area difference from ideal investment"
   ]
  },
  {
   "cell_type": "code",
   "execution_count": 4,
   "id": "c8cee193-5ace-455b-819c-b2c05dc6b0ea",
   "metadata": {},
   "outputs": [],
   "source": [
    "sequence_df = pd.read_parquet(os.path.join(seq_path, 'sequence.parquet'))\n",
    "criterias = list(sequence_df.columns)"
   ]
  },
  {
   "cell_type": "code",
   "execution_count": 12,
   "id": "30c843ca-4a0d-4b0b-a2fc-6dc11e7d3614",
   "metadata": {},
   "outputs": [
    {
     "data": {
      "text/html": [
       "<div>\n",
       "<style scoped>\n",
       "    .dataframe tbody tr th:only-of-type {\n",
       "        vertical-align: middle;\n",
       "    }\n",
       "\n",
       "    .dataframe tbody tr th {\n",
       "        vertical-align: top;\n",
       "    }\n",
       "\n",
       "    .dataframe thead th {\n",
       "        text-align: right;\n",
       "    }\n",
       "</style>\n",
       "<table border=\"1\" class=\"dataframe\">\n",
       "  <thead>\n",
       "    <tr style=\"text-align: right;\">\n",
       "      <th></th>\n",
       "      <th>depth</th>\n",
       "      <th>area_ind</th>\n",
       "      <th>area_sector</th>\n",
       "    </tr>\n",
       "  </thead>\n",
       "  <tbody>\n",
       "    <tr>\n",
       "      <th>0</th>\n",
       "      <td>165250724</td>\n",
       "      <td>1266908852</td>\n",
       "      <td>198335271</td>\n",
       "    </tr>\n",
       "    <tr>\n",
       "      <th>1</th>\n",
       "      <td>165242801</td>\n",
       "      <td>72888152</td>\n",
       "      <td>1266908852</td>\n",
       "    </tr>\n",
       "    <tr>\n",
       "      <th>2</th>\n",
       "      <td>171267263</td>\n",
       "      <td>198335271</td>\n",
       "      <td>165250724</td>\n",
       "    </tr>\n",
       "    <tr>\n",
       "      <th>3</th>\n",
       "      <td>198335271</td>\n",
       "      <td>165250724</td>\n",
       "      <td>165242801</td>\n",
       "    </tr>\n",
       "    <tr>\n",
       "      <th>4</th>\n",
       "      <td>72888152</td>\n",
       "      <td>165242801</td>\n",
       "      <td>171267263</td>\n",
       "    </tr>\n",
       "    <tr>\n",
       "      <th>5</th>\n",
       "      <td>23135620</td>\n",
       "      <td>171267263</td>\n",
       "      <td>23135620</td>\n",
       "    </tr>\n",
       "    <tr>\n",
       "      <th>6</th>\n",
       "      <td>1266908852</td>\n",
       "      <td>23135620</td>\n",
       "      <td>72888152</td>\n",
       "    </tr>\n",
       "  </tbody>\n",
       "</table>\n",
       "</div>"
      ],
      "text/plain": [
       "        depth    area_ind  area_sector\n",
       "0   165250724  1266908852    198335271\n",
       "1   165242801    72888152   1266908852\n",
       "2   171267263   198335271    165250724\n",
       "3   198335271   165250724    165242801\n",
       "4    72888152   165242801    171267263\n",
       "5    23135620   171267263     23135620\n",
       "6  1266908852    23135620     72888152"
      ]
     },
     "execution_count": 12,
     "metadata": {},
     "output_type": "execute_result"
    }
   ],
   "source": [
    "sequence_df"
   ]
  },
  {
   "cell_type": "code",
   "execution_count": 5,
   "id": "c0a4caab-3324-46cc-b135-2e327b67b63f",
   "metadata": {},
   "outputs": [],
   "source": [
    "def area_ideal_dev(criteria, seq_path):\n",
    "\n",
    "\n",
    "    filepath = os.path.join(seq_path, f'CBA_results_{criteria}.xlsx')\n",
    "    CBA = pd.read_excel(filepath, index_col = [0])\n",
    "        \n",
    "    min_EC = CBA.EAC.min()\n",
    "    max_EC= CBA.EAC.max()\n",
    "    min_inv = CBA.INV.min()\n",
    "    max_inv = CBA.INV.max()\n",
    "\n",
    "    # Calulating area\n",
    "    inv_values = CBA['INV']\n",
    "    tc_values = CBA['EAC']\n",
    "    \n",
    "    # Diagonal line with slope and intercept\n",
    "    slope = (min_EC - max_EC) / (max_inv - min_inv)\n",
    "    diag_values = max_EC + slope * (inv_values - min_inv)\n",
    "\n",
    "    # Area positive (above the ideal line)\n",
    "    diff_pos = np.maximum(tc_values - diag_values, 0)\n",
    "    area_pos = np.trapz(diff_pos, inv_values)\n",
    "\n",
    "    # Area negative (below the ideal line)\n",
    "    diff_neg = np.maximum(diag_values - tc_values, 0)\n",
    "    area_neg = np.trapz(diff_neg, inv_values)\n",
    "\n",
    "    area = area_neg - area_pos\n",
    "    return area"
   ]
  },
  {
   "cell_type": "code",
   "execution_count": 6,
   "id": "9e0e5f97-2f7d-493d-9d18-9f78442ddecf",
   "metadata": {},
   "outputs": [],
   "source": [
    "area_df = pd.DataFrame()\n",
    "\n",
    "for i in range(len(criterias)):\n",
    "    criteria = criterias[i]\n",
    "    area = area_ideal_dev(criteria, seq_path)\n",
    "    area_df.loc[i, 'sequence'] = criteria\n",
    "    area_df.loc[i, 'area'] = area"
   ]
  },
  {
   "cell_type": "code",
   "execution_count": 7,
   "id": "2722cfe8-d8c5-4d25-9237-83f8155c0945",
   "metadata": {
    "scrolled": true
   },
   "outputs": [
    {
     "data": {
      "text/html": [
       "<div>\n",
       "<style scoped>\n",
       "    .dataframe tbody tr th:only-of-type {\n",
       "        vertical-align: middle;\n",
       "    }\n",
       "\n",
       "    .dataframe tbody tr th {\n",
       "        vertical-align: top;\n",
       "    }\n",
       "\n",
       "    .dataframe thead th {\n",
       "        text-align: right;\n",
       "    }\n",
       "</style>\n",
       "<table border=\"1\" class=\"dataframe\">\n",
       "  <thead>\n",
       "    <tr style=\"text-align: right;\">\n",
       "      <th></th>\n",
       "      <th>sequence</th>\n",
       "      <th>area</th>\n",
       "    </tr>\n",
       "  </thead>\n",
       "  <tbody>\n",
       "    <tr>\n",
       "      <th>0</th>\n",
       "      <td>depth</td>\n",
       "      <td>0.006357</td>\n",
       "    </tr>\n",
       "    <tr>\n",
       "      <th>1</th>\n",
       "      <td>area_ind</td>\n",
       "      <td>-0.014586</td>\n",
       "    </tr>\n",
       "    <tr>\n",
       "      <th>2</th>\n",
       "      <td>area_sector</td>\n",
       "      <td>0.033045</td>\n",
       "    </tr>\n",
       "  </tbody>\n",
       "</table>\n",
       "</div>"
      ],
      "text/plain": [
       "      sequence      area\n",
       "0        depth  0.006357\n",
       "1     area_ind -0.014586\n",
       "2  area_sector  0.033045"
      ]
     },
     "execution_count": 7,
     "metadata": {},
     "output_type": "execute_result"
    }
   ],
   "source": [
    "area_df"
   ]
  },
  {
   "cell_type": "code",
   "execution_count": 8,
   "id": "0a273363-f124-4629-9612-28706417721a",
   "metadata": {},
   "outputs": [],
   "source": [
    "#colors = ['#a53860' , '#3d405b', '#ff7d00', '#7f4f24', '#fcbf49', '#76c893', '#250902']\n",
    "colors = ['#a53860' , '#3d405b', '#7f4f24']"
   ]
  },
  {
   "cell_type": "code",
   "execution_count": 9,
   "id": "acecb778-7848-4e4a-b5d6-6217621a9b83",
   "metadata": {},
   "outputs": [],
   "source": [
    "#criteria_names= ['Flood depth', 'Flood frequency', 'Industrial proximity', 'Industrial proximity \\nSector - Oil & Petrochemicals']"
   ]
  },
  {
   "cell_type": "code",
   "execution_count": 10,
   "id": "277ac048-6881-4951-b56e-93084018c7ee",
   "metadata": {},
   "outputs": [],
   "source": [
    "titles  = ['(a) Maximum flood depth' , '(b) Sector independent proximity \\n to industrial sites ','(c) Proximity to industrial sites \\n of Oil andChemicals']"
   ]
  },
  {
   "cell_type": "code",
   "execution_count": 11,
   "id": "0facd01a-55df-4997-9232-4204e0bc7877",
   "metadata": {},
   "outputs": [
    {
     "data": {
      "image/png": "[encoded data removed]",
      "text/plain": [
       "<Figure size 800x300 with 3 Axes>"
      ]
     },
     "metadata": {},
     "output_type": "display_data"
    }
   ],
   "source": [
    "import matplotlib.pyplot as plt\n",
    "import numpy as np\n",
    "import pandas as pd\n",
    "import os\n",
    "\n",
    "# Suppose you have a list of 7 criteria\n",
    "criteria_list = criterias\n",
    "area_values = []\n",
    "seq_names = []\n",
    "\n",
    "# Set global font properties\n",
    "mpl.rcParams['font.family'] = 'Calibri'  # or 'Arial', 'Times New Roman', etc.\n",
    "mpl.rcParams['font.size'] = 10  \n",
    "\n",
    "\n",
    "# Set up figure and gridspec\n",
    "fig = plt.figure(figsize=(8, 3))\n",
    "gs = GridSpec(1, 3, figure=fig, height_ratios=[1])\n",
    "\n",
    "# Plot first 7 criteria\n",
    "for i, crit in enumerate(criteria_list):\n",
    "    row = i\n",
    "    ax = fig.add_subplot(gs[row])\n",
    "\n",
    "    filepath = os.path.join(seq_path, f'CBA_results_{crit}.xlsx')\n",
    "    CBA = pd.read_excel(filepath, index_col=0)\n",
    "\n",
    "    inv_values = CBA['INV']\n",
    "    tc_values = CBA['EAC']\n",
    "    \n",
    "    min_EC = tc_values.min()\n",
    "    max_EC = tc_values.max()\n",
    "    min_inv = inv_values.min()\n",
    "    max_inv = inv_values.max()\n",
    "\n",
    "    # Diagonal line\n",
    "    slope = (min_EC - max_EC) / (max_inv - min_inv)\n",
    "    diag_values = max_EC + slope * (inv_values - min_inv)\n",
    "\n",
    "    ax.plot(inv_values, tc_values, color= colors[i], linestyle='--', marker='o', markersize=6)\n",
    "    ax.plot([min_inv, max_inv], [max_EC, min_EC], color='k', linestyle=':', linewidth=0.5)\n",
    "\n",
    "    ax.fill_between(inv_values, tc_values, diag_values, where=(tc_values > diag_values),\n",
    "                    interpolate=True, color = colors[i], alpha=0.3)\n",
    "    ax.fill_between(inv_values, tc_values, diag_values, where=(tc_values < diag_values),\n",
    "                    interpolate=True, color= colors[i], alpha=0.3, hatch = '/////', edgecolor = colors[i])\n",
    "\n",
    "    ax.set_xlim([0, 0.36])\n",
    "    ax.set_ylim([2, 4])\n",
    "  \n",
    "    ax.set_yticks(np.arange(2, 4.5, 0.5))\n",
    "    ax.set_xticks(np.arange(0, 0.45, 0.09))\n",
    "    ax.grid(True, which='both', linestyle='--', linewidth=0.5, alpha=0.7)\n",
    "    textstr = f\"\\u0394 ideal = {area_df.loc[i, 'area']:.2f}\"\n",
    "    ax.text(0.55, 0.95,textstr ,\n",
    "        transform=ax.transAxes,\n",
    "        verticalalignment='top')\n",
    "\n",
    "    \n",
    "    # ax.set_xlabel('Annualised investment \\n (in million €)')\n",
    "    # ax.set_ylabel('EAI \\n (in million €)')\n",
    "\n",
    "    ax.set_title(f'{titles[i]}', fontname = 'Calibri', fontsize = 10)\n",
    "\n",
    "    # Compute area\n",
    "    diff_pos = np.maximum(tc_values - diag_values, 0)\n",
    "    diff_neg = np.maximum(diag_values - tc_values, 0)\n",
    "    area = np.trapz(diff_neg, inv_values) - np.trapz(diff_pos, inv_values)\n",
    "\n",
    "    area_values.append(area)\n",
    "    seq_names.append(crit)\n",
    "\n",
    "fig.supxlabel('Equivalent Annual Cost (in million €)', fontname = 'Calibri', fontsize = 10)\n",
    "fig.supylabel('Expected Annual Impact (in million €)', fontname = 'Calibri', fontsize = 10)\n",
    "\n",
    "\n",
    "plt.tight_layout()\n",
    "plt.subplots_adjust(hspace=0.4) \n",
    "plt.savefig('adaptation_ss_sequencing.png', dpi = 500, bbox_inches = 'tight')\n",
    "\n",
    "plt.show()"
   ]
  },
  {
   "cell_type": "code",
   "execution_count": null,
   "id": "538ec80a-4bf5-4bdc-953e-ac00c98172f0",
   "metadata": {},
   "outputs": [],
   "source": []
  },
  {
   "cell_type": "code",
   "execution_count": null,
   "id": "2160debe-600e-4e76-95b5-959d74bb4ee2",
   "metadata": {},
   "outputs": [],
   "source": []
  }
 ],
 "metadata": {
  "kernelspec": {
   "display_name": "Python 3 (ipykernel)",
   "language": "python",
   "name": "python3"
  },
  "language_info": {
   "codemirror_mode": {
    "name": "ipython",
    "version": 3
   },
   "file_extension": ".py",
   "mimetype": "text/x-python",
   "name": "python",
   "nbconvert_exporter": "python",
   "pygments_lexer": "ipython3",
   "version": "3.12.3"
  }
 },
 "nbformat": 4,
 "nbformat_minor": 5
}
